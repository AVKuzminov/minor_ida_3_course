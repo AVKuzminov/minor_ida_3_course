{
 "cells": [
  {
   "cell_type": "markdown",
   "metadata": {},
   "source": [
    "# Нейронные сети с TensorFlow\n",
    "\n",
    "\n",
    "Установка (https://www.tensorflow.org/)\n",
    "* pip3 install tensorflow\n",
    "* pip3 install tensorflow-gpu"
   ]
  },
  {
   "cell_type": "code",
   "execution_count": 2,
   "metadata": {},
   "outputs": [],
   "source": [
    "import tensorflow as tf\n",
    "\n",
    "# Model parameters\n",
    "W = tf.Variable([.3], dtype=tf.float32) #всегда надо переменной установить начальное значение\n",
    "b = tf.Variable([-.3], dtype=tf.float32)\n",
    "# Model input and output\n",
    "x = tf.placeholder(tf.float32)\n",
    "linear_model = W * x + b\n",
    "y = tf.placeholder(tf.float32)"
   ]
  },
  {
   "cell_type": "code",
   "execution_count": 3,
   "metadata": {
    "collapsed": true
   },
   "outputs": [],
   "source": [
    "# loss\n",
    "loss = tf.reduce_sum(tf.square(linear_model - y)) # sum of the squares - функция потерь\n",
    "# optimizer - добавляет несколько узлов градиента функции потерь (для вычисления)\n",
    "optimizer = tf.train.GradientDescentOptimizer(0.01)#шаг градиентного спуска \n",
    "train = optimizer.minimize(loss)"
   ]
  },
  {
   "cell_type": "code",
   "execution_count": 4,
   "metadata": {
    "collapsed": true
   },
   "outputs": [],
   "source": [
    "# training data\n",
    "x_train = [1, 2, 3, 4]\n",
    "y_train = [0, -1, -2, -3]\n",
    "# training loop\n",
    "init = tf.global_variables_initializer() #инициализация переменных в графе вычислений\n",
    "sess = tf.Session()\n",
    "sess.run(init) # reset values to wrong\n",
    "for i in range(1000):\n",
    "    sess.run(train, {x: x_train, y: y_train}) #1000 аз повторяем вычисление градиента"
   ]
  },
  {
   "cell_type": "code",
   "execution_count": 5,
   "metadata": {},
   "outputs": [
    {
     "name": "stdout",
     "output_type": "stream",
     "text": [
      "W: [-0.9999969] b: [ 0.99999082] loss: 5.69997e-11\n"
     ]
    }
   ],
   "source": [
    "# evaluate training accuracy\n",
    "curr_W, curr_b, curr_loss = sess.run([W, b, loss], {x: x_train, y: y_train})\n",
    "print(\"W: %s b: %s loss: %s\"%(curr_W, curr_b, curr_loss))"
   ]
  },
  {
   "cell_type": "markdown",
   "metadata": {},
   "source": [
    "![Graph](https://www.tensorflow.org/images/getting_started_final.png)"
   ]
  },
  {
   "cell_type": "markdown",
   "metadata": {},
   "source": [
    "### Линейная модель с TF"
   ]
  },
  {
   "cell_type": "code",
   "execution_count": 6,
   "metadata": {},
   "outputs": [
    {
     "name": "stdout",
     "output_type": "stream",
     "text": [
      "INFO:tensorflow:Using default config.\n",
      "WARNING:tensorflow:Using temporary folder as model directory: C:\\Users\\akrazer\\AppData\\Local\\Temp\\tmphba_p_9m\n",
      "INFO:tensorflow:Using config: {'_model_dir': 'C:\\\\Users\\\\akrazer\\\\AppData\\\\Local\\\\Temp\\\\tmphba_p_9m', '_tf_random_seed': 1, '_save_summary_steps': 100, '_save_checkpoints_secs': 600, '_save_checkpoints_steps': None, '_session_config': None, '_keep_checkpoint_max': 5, '_keep_checkpoint_every_n_hours': 10000, '_log_step_count_steps': 100}\n",
      "INFO:tensorflow:Create CheckpointSaverHook.\n",
      "INFO:tensorflow:Saving checkpoints for 1 into C:\\Users\\akrazer\\AppData\\Local\\Temp\\tmphba_p_9m\\model.ckpt.\n",
      "INFO:tensorflow:loss = 14.0, step = 1\n",
      "INFO:tensorflow:global_step/sec: 839.748\n",
      "INFO:tensorflow:loss = 0.0821688, step = 101 (0.120 sec)\n",
      "INFO:tensorflow:global_step/sec: 908.448\n",
      "INFO:tensorflow:loss = 0.0213302, step = 201 (0.110 sec)\n",
      "INFO:tensorflow:global_step/sec: 916.774\n",
      "INFO:tensorflow:loss = 0.0108325, step = 301 (0.110 sec)\n",
      "INFO:tensorflow:global_step/sec: 942.727\n",
      "INFO:tensorflow:loss = 0.00448319, step = 401 (0.106 sec)\n",
      "INFO:tensorflow:global_step/sec: 892.227\n",
      "INFO:tensorflow:loss = 0.000378227, step = 501 (0.111 sec)\n",
      "INFO:tensorflow:global_step/sec: 832.743\n",
      "INFO:tensorflow:loss = 7.32836e-05, step = 601 (0.120 sec)\n",
      "INFO:tensorflow:global_step/sec: 819.08\n",
      "INFO:tensorflow:loss = 6.0233e-06, step = 701 (0.123 sec)\n",
      "INFO:tensorflow:global_step/sec: 751.348\n",
      "INFO:tensorflow:loss = 1.99874e-06, step = 801 (0.132 sec)\n",
      "INFO:tensorflow:global_step/sec: 819.094\n",
      "INFO:tensorflow:loss = 4.53441e-07, step = 901 (0.122 sec)\n",
      "INFO:tensorflow:Saving checkpoints for 1000 into C:\\Users\\akrazer\\AppData\\Local\\Temp\\tmphba_p_9m\\model.ckpt.\n",
      "INFO:tensorflow:Loss for final step: 4.43049e-08.\n",
      "INFO:tensorflow:Starting evaluation at 2017-10-19-08:02:26\n",
      "INFO:tensorflow:Restoring parameters from C:\\Users\\akrazer\\AppData\\Local\\Temp\\tmphba_p_9m\\model.ckpt-1000\n",
      "INFO:tensorflow:Finished evaluation at 2017-10-19-08:02:27\n",
      "INFO:tensorflow:Saving dict for global step 1000: average_loss = 2.18121e-08, global_step = 1000, loss = 8.72484e-08\n",
      "INFO:tensorflow:Starting evaluation at 2017-10-19-08:02:29\n",
      "INFO:tensorflow:Restoring parameters from C:\\Users\\akrazer\\AppData\\Local\\Temp\\tmphba_p_9m\\model.ckpt-1000\n",
      "INFO:tensorflow:Finished evaluation at 2017-10-19-08:02:30\n",
      "INFO:tensorflow:Saving dict for global step 1000: average_loss = 0.00253756, global_step = 1000, loss = 0.0101502\n",
      "train metrics: {'average_loss': 2.1812099e-08, 'loss': 8.7248395e-08, 'global_step': 1000}\n",
      "eval metrics: {'average_loss': 0.0025375606, 'loss': 0.010150243, 'global_step': 1000}\n"
     ]
    }
   ],
   "source": [
    "import numpy as np\n",
    "\n",
    "# Declare list of features. We only have one numeric feature. There are many\n",
    "# other types of columns that are more complicated and useful.\n",
    "feature_columns = [tf.feature_column.numeric_column(\"x\", shape=[1])]\n",
    "\n",
    "# An estimator is the front end to invoke training (fitting) and evaluation\n",
    "# (inference). There are many predefined types like linear regression,\n",
    "# linear classification, and many neural network classifiers and regressors.\n",
    "# The following code provides an estimator that does linear regression.\n",
    "estimator = tf.estimator.LinearRegressor(feature_columns=feature_columns)\n",
    "\n",
    "# TensorFlow provides many helper methods to read and set up data sets.\n",
    "# Here we use two data sets: one for training and one for evaluation\n",
    "# We have to tell the function how many batches\n",
    "# of data (num_epochs) we want and how big each batch should be.\n",
    "x_train = np.array([1., 2., 3., 4.])\n",
    "y_train = np.array([0., -1., -2., -3.])\n",
    "x_eval = np.array([2., 5., 8., 1.])\n",
    "y_eval = np.array([-1.01, -4.1, -7, 0.])\n",
    "input_fn = tf.estimator.inputs.numpy_input_fn(\n",
    "    {\"x\": x_train}, y_train, batch_size=4, num_epochs=None, shuffle=True)\n",
    "train_input_fn = tf.estimator.inputs.numpy_input_fn(\n",
    "    {\"x\": x_train}, y_train, batch_size=4, num_epochs=1000, shuffle=False)\n",
    "eval_input_fn = tf.estimator.inputs.numpy_input_fn(\n",
    "    {\"x\": x_eval}, y_eval, batch_size=4, num_epochs=1000, shuffle=False)\n",
    "\n",
    "# We can invoke 1000 training steps by invoking the  method and passing the\n",
    "# training data set.\n",
    "estimator.train(input_fn=input_fn, steps=1000)\n",
    "\n",
    "# Here we evaluate how well our model did.\n",
    "train_metrics = estimator.evaluate(input_fn=train_input_fn)\n",
    "eval_metrics = estimator.evaluate(input_fn=eval_input_fn)\n",
    "print(\"train metrics: %r\"% train_metrics)\n",
    "print(\"eval metrics: %r\"% eval_metrics)"
   ]
  },
  {
   "cell_type": "code",
   "execution_count": 7,
   "metadata": {
    "collapsed": true
   },
   "outputs": [],
   "source": [
    "def model_fn(features, labels, mode):\n",
    "    # Build a linear model and predict values\n",
    "    W = tf.get_variable(\"W\", [1], dtype=tf.float64)\n",
    "    b = tf.get_variable(\"b\", [1], dtype=tf.float64)\n",
    "    y = W * features['x'] + b\n",
    "    # Loss sub-graph\n",
    "    loss = tf.reduce_sum(tf.square(y - labels))\n",
    "    # Training sub-graph\n",
    "    global_step = tf.train.get_global_step()\n",
    "    optimizer = tf.train.GradientDescentOptimizer(0.01)\n",
    "    train = tf.group(optimizer.minimize(loss),\n",
    "                   tf.assign_add(global_step, 1))\n",
    "    # EstimatorSpec connects subgraphs we built to the\n",
    "    # appropriate functionality.\n",
    "    return tf.estimator.EstimatorSpec(\n",
    "      mode=mode,\n",
    "      predictions=y,\n",
    "      loss=loss,\n",
    "      train_op=train)"
   ]
  },
  {
   "cell_type": "code",
   "execution_count": 8,
   "metadata": {},
   "outputs": [
    {
     "name": "stdout",
     "output_type": "stream",
     "text": [
      "INFO:tensorflow:Using default config.\n",
      "WARNING:tensorflow:Using temporary folder as model directory: C:\\Users\\akrazer\\AppData\\Local\\Temp\\tmp9gjz__rj\n",
      "INFO:tensorflow:Using config: {'_model_dir': 'C:\\\\Users\\\\akrazer\\\\AppData\\\\Local\\\\Temp\\\\tmp9gjz__rj', '_tf_random_seed': 1, '_save_summary_steps': 100, '_save_checkpoints_secs': 600, '_save_checkpoints_steps': None, '_session_config': None, '_keep_checkpoint_max': 5, '_keep_checkpoint_every_n_hours': 10000, '_log_step_count_steps': 100}\n",
      "INFO:tensorflow:Create CheckpointSaverHook.\n",
      "INFO:tensorflow:Saving checkpoints for 1 into C:\\Users\\akrazer\\AppData\\Local\\Temp\\tmp9gjz__rj\\model.ckpt.\n",
      "INFO:tensorflow:loss = 10.8243056552, step = 1\n",
      "INFO:tensorflow:global_step/sec: 884.484\n",
      "INFO:tensorflow:loss = 0.0105642405023, step = 101 (0.115 sec)\n",
      "INFO:tensorflow:global_step/sec: 876.56\n",
      "INFO:tensorflow:loss = 0.00177422461116, step = 201 (0.114 sec)\n",
      "INFO:tensorflow:global_step/sec: 876.576\n",
      "INFO:tensorflow:loss = 0.0004177736494, step = 301 (0.114 sec)\n",
      "INFO:tensorflow:global_step/sec: 876.562\n",
      "INFO:tensorflow:loss = 6.08043235554e-05, step = 401 (0.114 sec)\n",
      "INFO:tensorflow:global_step/sec: 999.3\n",
      "INFO:tensorflow:loss = 2.2234482185e-06, step = 501 (0.100 sec)\n",
      "INFO:tensorflow:global_step/sec: 925.264\n",
      "INFO:tensorflow:loss = 1.19047914844e-07, step = 601 (0.108 sec)\n",
      "INFO:tensorflow:global_step/sec: 951.704\n",
      "INFO:tensorflow:loss = 7.18881244264e-09, step = 701 (0.105 sec)\n",
      "INFO:tensorflow:global_step/sec: 999.289\n",
      "INFO:tensorflow:loss = 1.23513932708e-09, step = 801 (0.102 sec)\n",
      "INFO:tensorflow:global_step/sec: 757.026\n",
      "INFO:tensorflow:loss = 8.83076839141e-11, step = 901 (0.131 sec)\n",
      "INFO:tensorflow:Saving checkpoints for 1000 into C:\\Users\\akrazer\\AppData\\Local\\Temp\\tmp9gjz__rj\\model.ckpt.\n",
      "INFO:tensorflow:Loss for final step: 8.07769980114e-12.\n",
      "INFO:tensorflow:Starting evaluation at 2017-10-19-08:02:34\n",
      "INFO:tensorflow:Restoring parameters from C:\\Users\\akrazer\\AppData\\Local\\Temp\\tmp9gjz__rj\\model.ckpt-1000\n",
      "INFO:tensorflow:Finished evaluation at 2017-10-19-08:02:35\n",
      "INFO:tensorflow:Saving dict for global step 1000: global_step = 1000, loss = 1.12259e-11\n",
      "INFO:tensorflow:Starting evaluation at 2017-10-19-08:02:37\n",
      "INFO:tensorflow:Restoring parameters from C:\\Users\\akrazer\\AppData\\Local\\Temp\\tmp9gjz__rj\\model.ckpt-1000\n",
      "INFO:tensorflow:Finished evaluation at 2017-10-19-08:02:38\n",
      "INFO:tensorflow:Saving dict for global step 1000: global_step = 1000, loss = 0.0101005\n",
      "train metrics: {'loss': 1.1225922e-11, 'global_step': 1000}\n",
      "eval metrics: {'loss': 0.010100455, 'global_step': 1000}\n"
     ]
    }
   ],
   "source": [
    "estimator = tf.estimator.Estimator(model_fn=model_fn)\n",
    "# define our data sets\n",
    "x_train = np.array([1., 2., 3., 4.])\n",
    "y_train = np.array([0., -1., -2., -3.])\n",
    "x_eval = np.array([2., 5., 8., 1.])\n",
    "y_eval = np.array([-1.01, -4.1, -7, 0.])\n",
    "input_fn = tf.estimator.inputs.numpy_input_fn(\n",
    "    {\"x\": x_train}, y_train, batch_size=4, num_epochs=None, shuffle=True)\n",
    "train_input_fn = tf.estimator.inputs.numpy_input_fn(\n",
    "    {\"x\": x_train}, y_train, batch_size=4, num_epochs=1000, shuffle=False)\n",
    "eval_input_fn = tf.estimator.inputs.numpy_input_fn(\n",
    "    {\"x\": x_eval}, y_eval, batch_size=4, num_epochs=1000, shuffle=False)\n",
    "\n",
    "# train\n",
    "estimator.train(input_fn=input_fn, steps=1000)\n",
    "# Here we evaluate how well our model did.\n",
    "train_metrics = estimator.evaluate(input_fn=train_input_fn)\n",
    "eval_metrics = estimator.evaluate(input_fn=eval_input_fn)\n",
    "print(\"train metrics: %r\"% train_metrics)\n",
    "print(\"eval metrics: %r\"% eval_metrics)"
   ]
  },
  {
   "cell_type": "markdown",
   "metadata": {},
   "source": [
    "### Обучение на базе MNIST с TF"
   ]
  },
  {
   "cell_type": "markdown",
   "metadata": {},
   "source": [
    "Загрузим наши данные"
   ]
  },
  {
   "cell_type": "code",
   "execution_count": 9,
   "metadata": {},
   "outputs": [
    {
     "name": "stdout",
     "output_type": "stream",
     "text": [
      "Successfully downloaded train-images-idx3-ubyte.gz 9912422 bytes.\n",
      "Extracting MNIST_data/train-images-idx3-ubyte.gz\n",
      "Successfully downloaded train-labels-idx1-ubyte.gz 28881 bytes.\n",
      "Extracting MNIST_data/train-labels-idx1-ubyte.gz\n",
      "Successfully downloaded t10k-images-idx3-ubyte.gz 1648877 bytes.\n",
      "Extracting MNIST_data/t10k-images-idx3-ubyte.gz\n",
      "Successfully downloaded t10k-labels-idx1-ubyte.gz 4542 bytes.\n",
      "Extracting MNIST_data/t10k-labels-idx1-ubyte.gz\n"
     ]
    }
   ],
   "source": [
    "from tensorflow.examples.tutorials.mnist import input_data\n",
    "mnist = input_data.read_data_sets(\"MNIST_data/\", one_hot=True)"
   ]
  },
  {
   "cell_type": "markdown",
   "metadata": {},
   "source": [
    "![Картинка](https://www.tensorflow.org/images/MNIST-Matrix.png)"
   ]
  },
  {
   "cell_type": "code",
   "execution_count": 26,
   "metadata": {
    "collapsed": true
   },
   "outputs": [],
   "source": [
    "import matplotlib as plt\n",
    "%matplotlib inline\n",
    "\n",
    "def plot_images_separately(images):\n",
    "    #\"Plot the six MNIST images separately.\"\n",
    "    fig = plt.figure()\n",
    "    for j in range(1, 7):\n",
    "        ax = fig.add_subplot(1, 6, j)\n",
    "        ax.matshow(np.reshape(images[j-1], (28, 28)), cmap = matplotlib.cm.binary)\n",
    "        plt.xticks(np.array([]))\n",
    "        plt.yticks(np.array([]))\n",
    "    plt.show()"
   ]
  },
  {
   "cell_type": "code",
   "execution_count": 27,
   "metadata": {},
   "outputs": [
    {
     "ename": "TypeError",
     "evalue": "'module' object is not callable",
     "output_type": "error",
     "traceback": [
      "\u001b[0;31m---------------------------------------------------------------------------\u001b[0m",
      "\u001b[0;31mTypeError\u001b[0m                                 Traceback (most recent call last)",
      "\u001b[0;32m<ipython-input-27-383b89ce40db>\u001b[0m in \u001b[0;36m<module>\u001b[0;34m()\u001b[0m\n\u001b[0;32m----> 1\u001b[0;31m \u001b[0mplot_images_separately\u001b[0m\u001b[1;33m(\u001b[0m\u001b[0mmnist\u001b[0m\u001b[1;33m.\u001b[0m\u001b[0mtrain\u001b[0m\u001b[1;33m.\u001b[0m\u001b[0mimages\u001b[0m\u001b[1;33m)\u001b[0m\u001b[1;33m\u001b[0m\u001b[0m\n\u001b[0m\u001b[1;32m      2\u001b[0m \u001b[0mprint\u001b[0m\u001b[1;33m(\u001b[0m\u001b[0mmnist\u001b[0m\u001b[1;33m.\u001b[0m\u001b[0mtrain\u001b[0m\u001b[1;33m.\u001b[0m\u001b[0mlabels\u001b[0m\u001b[1;33m[\u001b[0m\u001b[1;36m0\u001b[0m\u001b[1;33m:\u001b[0m\u001b[1;36m6\u001b[0m\u001b[1;33m]\u001b[0m\u001b[1;33m)\u001b[0m\u001b[1;33m\u001b[0m\u001b[0m\n",
      "\u001b[0;32m<ipython-input-26-a2c51a86ff70>\u001b[0m in \u001b[0;36mplot_images_separately\u001b[0;34m(images)\u001b[0m\n\u001b[1;32m      4\u001b[0m \u001b[1;32mdef\u001b[0m \u001b[0mplot_images_separately\u001b[0m\u001b[1;33m(\u001b[0m\u001b[0mimages\u001b[0m\u001b[1;33m)\u001b[0m\u001b[1;33m:\u001b[0m\u001b[1;33m\u001b[0m\u001b[0m\n\u001b[1;32m      5\u001b[0m     \u001b[1;31m#\"Plot the six MNIST images separately.\"\u001b[0m\u001b[1;33m\u001b[0m\u001b[1;33m\u001b[0m\u001b[0m\n\u001b[0;32m----> 6\u001b[0;31m     \u001b[0mfig\u001b[0m \u001b[1;33m=\u001b[0m \u001b[0mplt\u001b[0m\u001b[1;33m.\u001b[0m\u001b[0mfigure\u001b[0m\u001b[1;33m(\u001b[0m\u001b[1;33m)\u001b[0m\u001b[1;33m\u001b[0m\u001b[0m\n\u001b[0m\u001b[1;32m      7\u001b[0m     \u001b[1;32mfor\u001b[0m \u001b[0mj\u001b[0m \u001b[1;32min\u001b[0m \u001b[0mrange\u001b[0m\u001b[1;33m(\u001b[0m\u001b[1;36m1\u001b[0m\u001b[1;33m,\u001b[0m \u001b[1;36m7\u001b[0m\u001b[1;33m)\u001b[0m\u001b[1;33m:\u001b[0m\u001b[1;33m\u001b[0m\u001b[0m\n\u001b[1;32m      8\u001b[0m         \u001b[0max\u001b[0m \u001b[1;33m=\u001b[0m \u001b[0mfig\u001b[0m\u001b[1;33m.\u001b[0m\u001b[0madd_subplot\u001b[0m\u001b[1;33m(\u001b[0m\u001b[1;36m1\u001b[0m\u001b[1;33m,\u001b[0m \u001b[1;36m6\u001b[0m\u001b[1;33m,\u001b[0m \u001b[0mj\u001b[0m\u001b[1;33m)\u001b[0m\u001b[1;33m\u001b[0m\u001b[0m\n",
      "\u001b[0;31mTypeError\u001b[0m: 'module' object is not callable"
     ]
    }
   ],
   "source": [
    "plot_images_separately(mnist.train.images)\n",
    "print(mnist.train.labels[0:6])"
   ]
  },
  {
   "cell_type": "markdown",
   "metadata": {},
   "source": [
    "Единицы соответствуют индексу класса"
   ]
  },
  {
   "cell_type": "markdown",
   "metadata": {},
   "source": [
    "### Однослойная нейронная сеть\n",
    "\n",
    "Построим модель в tensorflow. Tensorflow - это графический фраемворк, предназначенный в первую очередь для работы с нейронными сетями. На самом деле Вы можете создавать здесь любые алгоритмы машинного обучения. Основная идея работы с tensorflow - вы описываете порядок, в котором создаются переменные и выполняются операции, после чего запускаете обсчёт всего графа. \n",
    "\n",
    "В примере ниже мы создаем простейщую модель: \n",
    "$y = \\mbox{softmax}(Wx + b)$"
   ]
  },
  {
   "cell_type": "code",
   "execution_count": 37,
   "metadata": {
    "collapsed": true
   },
   "outputs": [],
   "source": [
    "x = tf.placeholder(tf.float32, shape=[None, 784]) #None - значит типо можно несколько картинок вот\n",
    "y_ = tf.placeholder(tf.float32, shape=[None, 10])\n",
    "\n",
    "W = tf.Variable(tf.zeros([784,10]))\n",
    "b = tf.Variable(tf.zeros([10]))"
   ]
  },
  {
   "cell_type": "markdown",
   "metadata": {},
   "source": [
    "Обратите внимание, что в tensorflow существует два вида перменных. \n",
    "tf.placeholder - переменные, значения которых подаются из вне. \n",
    "tf.Variable - переменные, которые как-то определяются внутри графа и могут зависеть от внешних переменных. Только tf.Variable могут быть обучаемыми переменными. "
   ]
  },
  {
   "cell_type": "code",
   "execution_count": 49,
   "metadata": {},
   "outputs": [
    {
     "name": "stdout",
     "output_type": "stream",
     "text": [
      "0.9092\n"
     ]
    }
   ],
   "source": [
    "# Здесь как вычислять y\n",
    "y = tf.matmul(x,W) + b\n",
    "loss = tf.nn.softmax_cross_entropy_with_logits(logits = y, labels=y_)\n",
    "# А затем задаем кросс-энтропию в качестве петрики и SGD в качестве оптимизатора\n",
    "optimizer = tf.train.GradientDescentOptimizer(0.01)\n",
    "train = optimizer.minimize(loss)\n",
    "init = tf.global_variables_initializer()\n",
    "sess1 = tf.Session()\n",
    "sess1.run(init)\n",
    "sess1.as_default()\n",
    "for i in range(1000):\n",
    "    x_batch, y_batch = mnist.train.next_batch(32) \n",
    "    sess1.run(train, {x:x_batch, y_:y_batch})\n",
    "correct_prediction = tf.equal(tf.argmax(y,1), tf.argmax(y_,1))\n",
    "accuracy = tf.reduce_mean(tf.cast(correct_prediction,tf.float32))\n",
    "print(accuracy.eval(session=sess1,feed_dict = {x: mnist.test.images, y_: mnist.test.labels}))"
   ]
  }
 ],
 "metadata": {
  "anaconda-cloud": {},
  "kernelspec": {
   "display_name": "Python 3",
   "language": "python",
   "name": "python3"
  },
  "language_info": {
   "codemirror_mode": {
    "name": "ipython",
    "version": 3
   },
   "file_extension": ".py",
   "mimetype": "text/x-python",
   "name": "python",
   "nbconvert_exporter": "python",
   "pygments_lexer": "ipython3",
   "version": "3.6.3"
  }
 },
 "nbformat": 4,
 "nbformat_minor": 1
}
