{
 "cells": [
  {
   "cell_type": "markdown",
   "metadata": {},
   "source": [
    "# Домашнее задание 2"
   ]
  },
  {
   "cell_type": "markdown",
   "metadata": {},
   "source": [
    "Используя датасет [STUDENT ALCOHOL CONSUMPTION](https://archive.ics.uci.edu/ml/datasets/STUDENT+ALCOHOL+CONSUMPTION#) и статью \"USING\tDATA\tMINING\tTO\tPREDICT\tSECONDARY SCHOOL\tSTUDENT\tALCOHOL\tCONSUMPTION\" выполните следующие задания:"
   ]
  },
  {
   "cell_type": "markdown",
   "metadata": {},
   "source": [
    "### Предобработка (Max 2)\n",
    "- Приведите описание признаков датасета на русском языке с указанием типа данных (0.3 балла)\n",
    "- Предобработка данных (1.7)\n",
    "    - Проверьте наличие пропусков. В случае наличия пропусков заполните их медианными значениями (0.4)\n",
    "    - Подсчитайте количество людей, у которых матери с образованием \"0\" (0.4)\n",
    "    - Преобразуйте все номинальные признаки в несколько признаков с бинарным значение (0.4)\n",
    "    - Используя объект [SelectKBest](http://scikit-learn.org/stable/modules/generated/sklearn.feature_selection.SelectKBest.html#sklearn.feature_selection.SelectKBest) с параметром [f_regression](http://scikit-learn.org/stable/modules/generated/sklearn.feature_selection.f_regression.html#sklearn.feature_selection.f_regression)  выберите два признака, которые наиболее сильно связаны с признаком G3 (0.5)"
   ]
  },
  {
   "cell_type": "markdown",
   "metadata": {
    "collapsed": true
   },
   "source": [
    "sex: пол (категориальная, символ : \"F\" - женщина; \"М\" - мужчина)\n",
    "age: возраст студента(количественная, целое число от 15 до 22)\n",
    "school: школа студента (категориальная, строка символов : \"GP\" - Gabriel Pereira, \"MS\" - Mousinho da Silveira)\n",
    "address: тип дома студента (категориальная, символ : \"U\" - город; \"R\" - сельская местность)\n",
    "Pstatus: жизнь с родителями (категориальная, символ : \"A\" - раздельно; \"T\" - совместно)\n",
    "Medy: образование матери (порядковая, целое число от 1 до 4: 1 - окончила до 4 класса школы; 2 - окончила 5 - 9 классов; 3 - среднее полное образование, 4 - высшее образование)\n",
    "Mjob: местро работы матери (категориальная, строка символов: \"health\" - здравоохранение,\"services\" - сфера услуг, \"teacher\" - образование,\"at_home\" - по дому, \"other\" - другое)\n",
    "traveltime: время поездки до учебы (порядковая, целое числа от 1 до 4: 1 - < [0,15); 2 - [15,30) минут; 3 - [30,60) минут; 4 - (60,+беск.) минут)\n",
    "studytime: длительность учебных занятий в неделю (порядковая, целое числа от 1 до 4: 1 - [0,2] часов;2 -[2;5) часов; 3 - [5,10) часов; 4 - [10,+беск.] часов)\n",
    "failures: число неудач за все время учебы (категориальная, целое числа от 1 до 4: 1 - 1; 2 - 2; 3 - 3; 4 - [4,+беск.))\n",
    "schoolsup: поддержка дополонительного образования студента школой (категориальная, строка символов: \"yes\" - да, \"no\" - нет)\n",
    "famsup: поддержка дополнительного образования студента семьёй (категориальная, строка символов: \"yes\" - да, \"no\" - нет)\n",
    "activities: внеучебная активность (категориальная, строка символов: \"yes\" - да, \"no\" - нет)\n",
    "paidclass: дополнительные оплачиваемые занятия (категориальная, строка символов: \"yes\" - да, \"no\" - нет)\n",
    "internet: доступ к Интернету дома (категориальная, строка символов: \"yes\" - да, \"no\" - нет)\n",
    "nursery: посещал ли медецинские курсы (категориальная, строка символов: \"yes\" - да, \"no\" - нет)\n",
    "higher: хочет ли получить образование более высокой категории (категориальная, строка символов: \"yes\" - да, \"no\" - нет)\n",
    "romantic: состоит ли в романтических отношениях (категориальная, строка символов: \"yes\" - да, \"no\" - нет)\n",
    "freetime: свободное время после учебы (категориальная, целое число: 1 - очень мало, ... , 5 - очень много)\n",
    "goout: прогулки с друзьями (категориальная, целое число: 1 - очень мало, ... , 5 - очень много)\n",
    "health: текущее состояние здоровья (категориальная, целое число: 1 - очень плохое, ... , 5 - очень хорошее)\n",
    "absences: количество пропусков занятий (количественная, целое число от 0 до 93)\n",
    "G1: оценка за первый период (количественная, целове число от 0 до 20)\n",
    "G2: оценка за второй период (количественная, целове число от 0 до 20)\n",
    "G3: оценка за третий период (количественная, целове число от 0 до 20)"
   ]
  },
  {
   "cell_type": "code",
   "execution_count": 1,
   "metadata": {
    "collapsed": false
   },
   "outputs": [],
   "source": [
    "import pandas as pnd\n",
    "df = pnd.read_csv('student-por.csv')"
   ]
  },
  {
   "cell_type": "code",
   "execution_count": 2,
   "metadata": {
    "collapsed": false
   },
   "outputs": [
    {
     "data": {
      "text/plain": [
       "age           649.0\n",
       "Medu          649.0\n",
       "Fedu          649.0\n",
       "traveltime    649.0\n",
       "studytime     649.0\n",
       "failures      649.0\n",
       "famrel        649.0\n",
       "freetime      649.0\n",
       "goout         649.0\n",
       "Dalc          649.0\n",
       "Walc          649.0\n",
       "health        649.0\n",
       "absences      649.0\n",
       "G1            649.0\n",
       "G2            649.0\n",
       "G3            649.0\n",
       "Name: count, dtype: float64"
      ]
     },
     "execution_count": 2,
     "metadata": {},
     "output_type": "execute_result"
    }
   ],
   "source": [
    "df.describe().iloc[0]"
   ]
  },
  {
   "cell_type": "code",
   "execution_count": 3,
   "metadata": {
    "collapsed": false
   },
   "outputs": [
    {
     "data": {
      "text/plain": [
       "649"
      ]
     },
     "execution_count": 3,
     "metadata": {},
     "output_type": "execute_result"
    }
   ],
   "source": [
    "len(df)"
   ]
  },
  {
   "cell_type": "code",
   "execution_count": 4,
   "metadata": {
    "collapsed": true
   },
   "outputs": [],
   "source": [
    "#В DataFrame 649 наблюдений, в то время как в каждом из столбцов 649 наблюдений - таким образом, пропусков нет.\n",
    "#Проведем замену пропусков на медиану (в качетсве примера) и на моду в случае категориальных."
   ]
  },
  {
   "cell_type": "code",
   "execution_count": 5,
   "metadata": {
    "collapsed": false
   },
   "outputs": [],
   "source": [
    "from collections import Counter\n",
    "import numpy as np\n",
    "data = Counter(df.school)\n",
    "moda = data.most_common(1)\n",
    "df.school = df.school.replace('NaN',moda[0][0])\n",
    "data = Counter(df.sex)\n",
    "moda = data.most_common(1)\n",
    "df.sex = df.sex.replace('NaN',moda[0][0])\n",
    "median = np.median(df.age)"
   ]
  },
  {
   "cell_type": "code",
   "execution_count": 6,
   "metadata": {
    "collapsed": false
   },
   "outputs": [
    {
     "name": "stdout",
     "output_type": "stream",
     "text": [
      "Количество людей, у которых матери с образованием 0 = 6\n"
     ]
    }
   ],
   "source": [
    "print(\"Количество людей, у которых матери с образованием 0 = {0}\".format(len(df[df.Medu == 0])))"
   ]
  },
  {
   "cell_type": "code",
   "execution_count": 7,
   "metadata": {
    "collapsed": true
   },
   "outputs": [],
   "source": [
    "df_new = pnd.get_dummies(df)"
   ]
  },
  {
   "cell_type": "code",
   "execution_count": 8,
   "metadata": {
    "collapsed": false
   },
   "outputs": [],
   "source": [
    "df_skb = df_new.drop('G3',axis=1)"
   ]
  },
  {
   "cell_type": "code",
   "execution_count": 9,
   "metadata": {
    "collapsed": false
   },
   "outputs": [
    {
     "data": {
      "text/plain": [
       "SelectKBest(k=10, score_func=<function f_regression at 0x000000C4244DF620>)"
      ]
     },
     "execution_count": 9,
     "metadata": {},
     "output_type": "execute_result"
    }
   ],
   "source": [
    "from sklearn import feature_selection\n",
    "skb = feature_selection.SelectKBest(feature_selection.f_regression)\n",
    "skb.fit(df_skb,(df_new.iloc[:,15:16]).values.ravel())"
   ]
  },
  {
   "cell_type": "code",
   "execution_count": 10,
   "metadata": {
    "collapsed": true
   },
   "outputs": [],
   "source": [
    "import matplotlib.pyplot as plt\n",
    "%matplotlib inline\n",
    "import numpy as np"
   ]
  },
  {
   "cell_type": "code",
   "execution_count": 11,
   "metadata": {
    "collapsed": false
   },
   "outputs": [
    {
     "data": {
      "image/png": "[encoded data removed]",
      "text/plain": [
       "<matplotlib.figure.Figure at 0xc4255360f0>"
      ]
     },
     "metadata": {},
     "output_type": "display_data"
    }
   ],
   "source": [
    "plt.figure(figsize = (10,10))\n",
    "plt.bar(range(len(df_skb.columns)), -np.log(skb.pvalues_)) #такое пробразование для наилучшей визуализации: \n",
    "                                                           # -log, т.к. наилучшие значения близки к 0\n",
    "plt.xticks(range(len(df_skb.columns)), df_skb.columns, rotation='vertical')\n",
    "plt.grid(True)\n",
    "plt.show()"
   ]
  },
  {
   "cell_type": "code",
   "execution_count": 12,
   "metadata": {
    "collapsed": true
   },
   "outputs": [],
   "source": [
    "#Видно, что наиболее сильно коррелируют G1 и G2"
   ]
  },
  {
   "cell_type": "markdown",
   "metadata": {},
   "source": [
    "### Регрессия (Max 4)\n",
    "Выберите один признак, который наиболее влияет на признак G3 и используя кросс-валидацию (cross-validation) выполните следующее:"
   ]
  },
  {
   "cell_type": "markdown",
   "metadata": {},
   "source": [
    "- На обучающей выборке обучите объект [RidgeСV](http://scikit-learn.org/stable/modules/generated/sklearn.linear_model.RidgeCV.html#sklearn.linear_model.RidgeCV) для различных alpha (0.2)\n",
    "- Выберите alpha при котором RidgeCV лучше всего предсказывает значения (0.1)\n",
    "- Подсчитайте метрику mean absolute error, mean squared error, median absolute error,r2 score(0.2)\n",
    "- Max (0.5)\n",
    "- ------------------------------------\n",
    "- Создайте объекты [SGDRegressor](http://scikit-learn.org/stable/modules/generated/sklearn.linear_model.SGDRegressor.html#sklearn.linear_model.SGDRegressor), используя все возможных варианты аргумента penalty (0.2)\n",
    "- Обучите все полученных объекты на обучающей выборке (0.1)\n",
    "- Подсчитайте метрику r2 score для всех объектов (0.2)\n",
    "- Max (0.5)\n",
    "- ------------------------------------\n",
    "- Создайте объекты с параметрами max_depth = 1,3, 10 [GradientBoostingRegressor](http://scikit-learn.org/stable/modules/generated/sklearn.ensemble.GradientBoostingRegressor.html#sklearn.ensemble.GradientBoostingRegressor) и для каждого объекта изменяйте количество n_estimators  от 100 до 1000 с шагом 100 (0.2)\n",
    "- Подсчитайте метрику r2 score для всех объектов (0.1)\n",
    "- Визуализируйте зависимость R2 oт n_estimators на графике (0.2)\n",
    "- Max (0.5)\n",
    "- -----------------------------------\n",
    "- Используя все доступные регрессоры в библиотеке sklearn, найдите самый лучший регрессор. (2.5)"
   ]
  },
  {
   "cell_type": "code",
   "execution_count": 13,
   "metadata": {
    "collapsed": false
   },
   "outputs": [
    {
     "name": "stdout",
     "output_type": "stream",
     "text": [
      "For mean absolute error best alpha is 1.5 with score = 0.80557\n",
      "For mean squared error best alpha is 1.5 with score = 2.00987\n",
      "For median absolute error best alpha is 1.5 with score = 0.63752\n",
      "For r2 score best alpha is 1.5 with score = 0.79795\n"
     ]
    }
   ],
   "source": [
    "from sklearn.metrics import mean_squared_error\n",
    "from sklearn.metrics import mean_absolute_error\n",
    "from sklearn.metrics import median_absolute_error\n",
    "from sklearn.metrics import r2_score\n",
    "from sklearn.model_selection import train_test_split\n",
    "X_train, X_test, y_train, y_test = train_test_split(df.G2,df.G3)#G2 - наиболее сильно коррелирует\n",
    "from sklearn.linear_model import RidgeCV\n",
    "estim = RidgeCV(alphas=[0.001,0.01,0.1,1.5,2,2.5,10,50,100,500,550,600,700,800])\n",
    "labels = ['mean absolute error','mean squared error','median absolute error','r2 score']\n",
    "estim.fit(X_train.values.reshape(-1,1),y_train)\n",
    "score = np.round(mean_absolute_error(y_test,estim.predict(X_test.values.reshape(-1,1))),5)\n",
    "print(\"For {0} best alpha is {1} with score = {2}\".format(labels[0],estim.alpha_,score))\n",
    "score = np.round(mean_squared_error(y_test,estim.predict(X_test.values.reshape(-1,1))),5)\n",
    "print(\"For {0} best alpha is {1} with score = {2}\".format(labels[1],estim.alpha_,score))\n",
    "score = np.round(median_absolute_error(y_test,estim.predict(X_test.values.reshape(-1,1))),5)\n",
    "print(\"For {0} best alpha is {1} with score = {2}\".format(labels[2],estim.alpha_,score))\n",
    "score = np.round(r2_score(y_test,estim.predict(X_test.values.reshape(-1,1))),5)\n",
    "print(\"For {0} best alpha is {1} with score = {2}\".format(labels[3],estim.alpha_,score))"
   ]
  },
  {
   "cell_type": "code",
   "execution_count": 14,
   "metadata": {
    "collapsed": false
   },
   "outputs": [
    {
     "name": "stdout",
     "output_type": "stream",
     "text": [
      "For penalty none r2 score = 0.79955\n",
      "For penalty l2 r2 score = 0.73341\n",
      "For penalty l1 r2 score = 0.79018\n",
      "For penalty elasticnet r2 score = 0.80103\n"
     ]
    }
   ],
   "source": [
    "from sklearn.linear_model import SGDRegressor\n",
    "penalties =  ['none', 'l2', 'l1', 'elasticnet']\n",
    "for i in penalties:\n",
    "    estim = SGDRegressor(penalty=i)\n",
    "    estim.fit(X_train.values.reshape(-1,1),y_train)\n",
    "    print(\"For penalty {0} r2 score = {1}\".format(i,np.round(estim.score(X_test.values.reshape(-1,1),y_test),5)))"
   ]
  },
  {
   "cell_type": "code",
   "execution_count": 15,
   "metadata": {
    "collapsed": false
   },
   "outputs": [
    {
     "data": {
      "text/html": [
       "<div>\n",
       "<table border=\"1\" class=\"dataframe\">\n",
       "  <thead>\n",
       "    <tr style=\"text-align: right;\">\n",
       "      <th></th>\n",
       "      <th>100</th>\n",
       "      <th>200</th>\n",
       "      <th>300</th>\n",
       "      <th>400</th>\n",
       "      <th>500</th>\n",
       "      <th>600</th>\n",
       "      <th>700</th>\n",
       "      <th>800</th>\n",
       "      <th>900</th>\n",
       "      <th>1000</th>\n",
       "    </tr>\n",
       "  </thead>\n",
       "  <tbody>\n",
       "    <tr>\n",
       "      <th>0</th>\n",
       "      <td>0.791706</td>\n",
       "      <td>0.791324</td>\n",
       "      <td>0.788988</td>\n",
       "      <td>0.787404</td>\n",
       "      <td>0.786340</td>\n",
       "      <td>0.785669</td>\n",
       "      <td>0.785216</td>\n",
       "      <td>0.784940</td>\n",
       "      <td>0.784750</td>\n",
       "      <td>0.784627</td>\n",
       "    </tr>\n",
       "    <tr>\n",
       "      <th>1</th>\n",
       "      <td>0.784431</td>\n",
       "      <td>0.784404</td>\n",
       "      <td>0.784404</td>\n",
       "      <td>0.784404</td>\n",
       "      <td>0.784404</td>\n",
       "      <td>0.784404</td>\n",
       "      <td>0.784404</td>\n",
       "      <td>0.784404</td>\n",
       "      <td>0.784404</td>\n",
       "      <td>0.784404</td>\n",
       "    </tr>\n",
       "    <tr>\n",
       "      <th>2</th>\n",
       "      <td>0.784401</td>\n",
       "      <td>0.784404</td>\n",
       "      <td>0.784404</td>\n",
       "      <td>0.784404</td>\n",
       "      <td>0.784404</td>\n",
       "      <td>0.784404</td>\n",
       "      <td>0.784404</td>\n",
       "      <td>0.784404</td>\n",
       "      <td>0.784404</td>\n",
       "      <td>0.784404</td>\n",
       "    </tr>\n",
       "  </tbody>\n",
       "</table>\n",
       "</div>"
      ],
      "text/plain": [
       "       100       200       300       400       500       600       700   \\\n",
       "0  0.791706  0.791324  0.788988  0.787404  0.786340  0.785669  0.785216   \n",
       "1  0.784431  0.784404  0.784404  0.784404  0.784404  0.784404  0.784404   \n",
       "2  0.784401  0.784404  0.784404  0.784404  0.784404  0.784404  0.784404   \n",
       "\n",
       "       800       900       1000  \n",
       "0  0.784940  0.784750  0.784627  \n",
       "1  0.784404  0.784404  0.784404  \n",
       "2  0.784404  0.784404  0.784404  "
      ]
     },
     "execution_count": 15,
     "metadata": {},
     "output_type": "execute_result"
    }
   ],
   "source": [
    "from sklearn.ensemble import GradientBoostingRegressor\n",
    "max_depth = [1,3,10]\n",
    "n_estimators = [100,200,300,400,500,600,700,800,900,1000]\n",
    "grad_boosting = pnd.DataFrame(columns = n_estimators)\n",
    "for i in range(len(max_depth)):\n",
    "    lst = []\n",
    "    for j in range(len(n_estimators)):\n",
    "        estim = GradientBoostingRegressor(max_depth=max_depth[i],n_estimators=n_estimators[j])\n",
    "        estim.fit(X_train.values.reshape(-1,1),y_train)\n",
    "        score = r2_score(y_test,estim.predict(X_test.values.reshape(-1,1)))\n",
    "        lst.append(score)\n",
    "    grad_boosting.loc[i] = lst  \n",
    "grad_boosting"
   ]
  },
  {
   "cell_type": "code",
   "execution_count": 16,
   "metadata": {
    "collapsed": false
   },
   "outputs": [
    {
     "data": {
      "image/png": "[encoded data removed]",
      "text/plain": [
       "<matplotlib.figure.Figure at 0xc42564b780>"
      ]
     },
     "metadata": {},
     "output_type": "display_data"
    }
   ],
   "source": [
    "plt.plot(n_estimators,grad_boosting.iloc[0,:],'o-',label=\"max_depth = 1\",color='r')\n",
    "plt.plot(n_estimators,grad_boosting.iloc[1,:],'--',label=\"max_depth = 3\",color='g',lw=6)\n",
    "plt.plot(n_estimators,grad_boosting.iloc[2,:],'o-',label=\"max_depth = 10\",color='b')\n",
    "plt.xlabel(\"Number of estimators\")\n",
    "plt.ylabel(\"R2 score\")\n",
    "plt.legend()\n",
    "plt.grid(True)\n",
    "plt.show()"
   ]
  },
  {
   "cell_type": "code",
   "execution_count": 17,
   "metadata": {
    "collapsed": true
   },
   "outputs": [],
   "source": [
    "def regressor(regressor, name):\n",
    "    regressor.fit(X_train.values.reshape(-1,1),y_train)\n",
    "    score = regressor.score(X_test.values.reshape(-1,1),y_test)\n",
    "    result_dict[name] = score\n",
    "    print(\"{0}, score = {1}\".format(name,score))"
   ]
  },
  {
   "cell_type": "code",
   "execution_count": 28,
   "metadata": {
    "collapsed": false
   },
   "outputs": [
    {
     "name": "stdout",
     "output_type": "stream",
     "text": [
      "mlp neural network, score = 0.7988891221201325\n",
      "linear regressor, score = 0.7979982622766241\n",
      "desicion tree regressor, score = 0.7844044421937386\n",
      "kneighors regressor, score = 0.750534496719463\n",
      "ada boost regressor, score = 0.7694138930198652\n"
     ]
    }
   ],
   "source": [
    "from sklearn.neural_network import MLPRegressor\n",
    "from sklearn.linear_model import LinearRegression\n",
    "from sklearn.tree import DecisionTreeRegressor\n",
    "from sklearn.neighbors import KNeighborsRegressor\n",
    "from sklearn.ensemble import AdaBoostRegressor\n",
    "result_dict = {}\n",
    "regressor(MLPRegressor(),\"mlp neural network\")\n",
    "regressor(LinearRegression(),\"linear regressor\")\n",
    "regressor(DecisionTreeRegressor(),\"desicion tree regressor\")\n",
    "regressor(KNeighborsRegressor(),\"kneighors regressor\")\n",
    "regressor(AdaBoostRegressor(),\"ada boost regressor\")"
   ]
  },
  {
   "cell_type": "code",
   "execution_count": 29,
   "metadata": {
    "collapsed": false
   },
   "outputs": [
    {
     "data": {
      "text/html": [
       "<div>\n",
       "<table border=\"1\" class=\"dataframe\">\n",
       "  <thead>\n",
       "    <tr style=\"text-align: right;\">\n",
       "      <th></th>\n",
       "      <th>Regressor</th>\n",
       "      <th>Score</th>\n",
       "    </tr>\n",
       "  </thead>\n",
       "  <tbody>\n",
       "    <tr>\n",
       "      <th>0</th>\n",
       "      <td>mlp neural network</td>\n",
       "      <td>0.798889</td>\n",
       "    </tr>\n",
       "    <tr>\n",
       "      <th>1</th>\n",
       "      <td>linear regressor</td>\n",
       "      <td>0.797998</td>\n",
       "    </tr>\n",
       "    <tr>\n",
       "      <th>2</th>\n",
       "      <td>desicion tree regressor</td>\n",
       "      <td>0.784404</td>\n",
       "    </tr>\n",
       "    <tr>\n",
       "      <th>3</th>\n",
       "      <td>kneighors regressor</td>\n",
       "      <td>0.750534</td>\n",
       "    </tr>\n",
       "    <tr>\n",
       "      <th>4</th>\n",
       "      <td>ada boost regressor</td>\n",
       "      <td>0.769414</td>\n",
       "    </tr>\n",
       "  </tbody>\n",
       "</table>\n",
       "</div>"
      ],
      "text/plain": [
       "                 Regressor     Score\n",
       "0       mlp neural network  0.798889\n",
       "1         linear regressor  0.797998\n",
       "2  desicion tree regressor  0.784404\n",
       "3      kneighors regressor  0.750534\n",
       "4      ada boost regressor  0.769414"
      ]
     },
     "execution_count": 29,
     "metadata": {},
     "output_type": "execute_result"
    }
   ],
   "source": [
    "result_df_reg = pnd.DataFrame(list(result_dict.items()),columns = [\"Regressor\",\"Score\"])\n",
    "result_df_reg"
   ]
  },
  {
   "cell_type": "markdown",
   "metadata": {},
   "source": [
    "Наилучшими оказались MLP Regressor и Linear Regression."
   ]
  },
  {
   "cell_type": "markdown",
   "metadata": {},
   "source": [
    "### Классификация (Max 4)\n",
    "- В статье описано использование Random Forest для предсказания важности факторов, влияющих на потребление алкоголя. Повторите эксперимент с использование объекта [RandomForest](http://scikit-learn.org/stable/modules/generated/sklearn.ensemble.RandomForestClassifier.html#sklearn.ensemble.RandomForestClassifier) и найдите наилучшие параметры. Укажите accuracy для наилучших параметров (0.5)\n",
    "- Обучите объект [GradientBoostingClassifier](http://scikit-learn.org/stable/modules/generated/sklearn.ensemble.GradientBoostingClassifier.html#sklearn.ensemble.GradientBoostingClassifier)  и найдите для него наилучшие параметры. Укажите accuracy для наилучших параметров (0.5)\n",
    "- Обучите объект [AdaBoostClassifier](http://scikit-learn.org/stable/modules/generated/sklearn.ensemble.AdaBoostClassifier.html)  и найдите для него наилучшие параметры. Укажите accuracy для наилучших параметров (0.5)\n",
    "- Найдите наилучший классификатор. Укажите accuracy для наилучших параметров (2.5)"
   ]
  },
  {
   "cell_type": "code",
   "execution_count": 31,
   "metadata": {
    "collapsed": false
   },
   "outputs": [],
   "source": [
    "df_new[\"Alc\"] = None\n",
    "df_new[\"Alc\"] = (2*df[\"Walc\"]+5*df[\"Dalc\"])/7\n",
    "from sklearn.preprocessing import Binarizer\n",
    "binarizerr = Binarizer(threshold=3.0)\n",
    "df_new[\"Alc\"] = binarizerr.fit_transform(df_new[\"Alc\"].values.reshape(-1,1))"
   ]
  },
  {
   "cell_type": "code",
   "execution_count": 32,
   "metadata": {
    "collapsed": true
   },
   "outputs": [],
   "source": [
    "X_train,X_test,y_train,y_test = train_test_split(df_new.drop([\"Walc\",\"Dalc\",\"Alc\"],axis=1),df_new[\"Alc\"].values.ravel())\n",
    "regressor_scores = {}"
   ]
  },
  {
   "cell_type": "code",
   "execution_count": 33,
   "metadata": {
    "collapsed": false
   },
   "outputs": [
    {
     "name": "stdout",
     "output_type": "stream",
     "text": [
      "done\n"
     ]
    }
   ],
   "source": [
    "from sklearn.ensemble import RandomForestClassifier\n",
    "from sklearn.model_selection import GridSearchCV\n",
    "rfc = RandomForestClassifier()\n",
    "param_grid_rf = dict(max_features = [1,2,3,5,10],\n",
    "                  n_estimators = [100,300,500,700,1000,5000,10000],\n",
    "                  bootstrap = [True,False])\n",
    "gscv_rf = GridSearchCV(rfc,param_grid = param_grid_rf)\n",
    "gscv_rf.fit(X_train,y_train)\n",
    "regressor_scores[\"Random forest\"] = gscv_rf.score(X_test,y_test)\n",
    "print('done')"
   ]
  },
  {
   "cell_type": "code",
   "execution_count": 34,
   "metadata": {
    "collapsed": false
   },
   "outputs": [
    {
     "name": "stdout",
     "output_type": "stream",
     "text": [
      "Best features for Random Forest Classifieer are: max_features = 1, n_estimators = 100 , bootstrap = True with score = 0.8588957055214724\n"
     ]
    }
   ],
   "source": [
    "print(\"Best features for Random Forest Classifieer are: max_features = {1}, n_estimators = {2} , bootstrap = {0} with score = {3}\".format(\n",
    "    gscv_rf.best_params_['bootstrap'],\n",
    "    gscv_rf.best_params_['max_features'],\n",
    "    gscv_rf.best_params_['n_estimators'],\n",
    "    regressor_scores[\"Random forest\"]\n",
    "    ))"
   ]
  },
  {
   "cell_type": "code",
   "execution_count": 35,
   "metadata": {
    "collapsed": false
   },
   "outputs": [
    {
     "name": "stdout",
     "output_type": "stream",
     "text": [
      "done\n"
     ]
    }
   ],
   "source": [
    "from sklearn.ensemble import GradientBoostingClassifier\n",
    "gbc = GradientBoostingClassifier()\n",
    "param_grid_gbc = dict(learning_rate = [0.001,0.01,0.1,0.5,1],\n",
    "                      n_estimators = [100,500,1000,5000],\n",
    "                      max_features = [1,5,10]\n",
    "                     )\n",
    "gscv_gbc = GridSearchCV(gbc,param_grid = param_grid_gbc)\n",
    "gscv_gbc.fit(X_train,y_train)\n",
    "regressor_scores[\"Gradient Boosting Clasifier\"] = gscv_gbc.score(X_test,y_test)\n",
    "print('done')"
   ]
  },
  {
   "cell_type": "code",
   "execution_count": 36,
   "metadata": {
    "collapsed": false
   },
   "outputs": [
    {
     "name": "stdout",
     "output_type": "stream",
     "text": [
      "Best features for Gradient Boosting Classifier are:  n_estimators = 100, max_features = 1, learning_rate = 0.001 with score = 0.8588957055214724\n"
     ]
    }
   ],
   "source": [
    "print(\"Best features for Gradient Boosting Classifier are:  n_estimators = {1}, max_features = {2}, learning_rate = {0} with score = {3}\".format(\n",
    "    gscv_gbc.best_params_['learning_rate'],\n",
    "    gscv_gbc.best_params_['n_estimators'],\n",
    "    gscv_gbc.best_params_['max_features'],\n",
    "    regressor_scores[\"Gradient Boosting Clasifier\"]))"
   ]
  },
  {
   "cell_type": "code",
   "execution_count": 43,
   "metadata": {
    "collapsed": false
   },
   "outputs": [
    {
     "name": "stdout",
     "output_type": "stream",
     "text": [
      "done\n"
     ]
    }
   ],
   "source": [
    "from sklearn.ensemble import AdaBoostClassifier\n",
    "from sklearn.tree import DecisionTreeClassifier\n",
    "from sklearn.gaussian_process import GaussianProcessClassifier\n",
    "from sklearn.neighbors import KNeighborsClassifier\n",
    "abc = AdaBoostClassifier()\n",
    "param_grid_abc = dict(base_estimator = [DecisionTreeClassifier()],\n",
    "                     n_estimators = [50,100,300,500,1000,5000,10000],\n",
    "                     learning_rate = [0.01,0.1,0.5,1]\n",
    "                     )\n",
    "gscv_abc = GridSearchCV(abc,param_grid = param_grid_abc)\n",
    "gscv_abc.fit(X_train,y_train)\n",
    "regressor_scores[\"AdaBoost Clasifier\"] = gscv_abc.score(X_test,y_test)\n",
    "print('done')"
   ]
  },
  {
   "cell_type": "code",
   "execution_count": 44,
   "metadata": {
    "collapsed": false
   },
   "outputs": [
    {
     "name": "stdout",
     "output_type": "stream",
     "text": [
      "Best parameters for AdaBoost Classifer based on DecisionTreeClassifiers are: learning rate = 0.001, n_estimators = 100, max_features = 1 with score = 0.8220858895705522\n"
     ]
    }
   ],
   "source": [
    "print(\"Best parameters for AdaBoost Classifer based on DecisionTreeClassifiers are: learning rate = {0}, n_estimators = {1}, max_features = {2} with score = {3}\".format(\n",
    "    gscv_gbc.best_params_['learning_rate'],\n",
    "    gscv_gbc.best_params_['n_estimators'],\n",
    "    gscv_gbc.best_params_['max_features'],\n",
    "    regressor_scores[\"AdaBoost Clasifier\"]))"
   ]
  },
  {
   "cell_type": "code",
   "execution_count": 45,
   "metadata": {
    "collapsed": false
   },
   "outputs": [
    {
     "name": "stdout",
     "output_type": "stream",
     "text": [
      "done\n"
     ]
    }
   ],
   "source": [
    "dt = DecisionTreeClassifier()\n",
    "param_grid_dt = dict(max_depth = [5,10,50,100],\n",
    "                     )\n",
    "gscv_dt = GridSearchCV(dt,param_grid = param_grid_dt)\n",
    "gscv_dt.fit(X_train,y_train)\n",
    "regressor_scores[\"Decision Tree Classifier\"] = gscv_dt.score(X_test,y_test)\n",
    "print('done')"
   ]
  },
  {
   "cell_type": "code",
   "execution_count": 46,
   "metadata": {
    "collapsed": false
   },
   "outputs": [
    {
     "name": "stdout",
     "output_type": "stream",
     "text": [
      "Best max_depth for Desicion Tree Classifier is: 5 with score = 0.8588957055214724\n"
     ]
    }
   ],
   "source": [
    "print(\"Best max_depth for Desicion Tree Classifier is: {0} with score = {1}\".format(gscv_dt.best_params_['max_depth'],regressor_scores[\"Decision Tree Classifier\"]))"
   ]
  },
  {
   "cell_type": "code",
   "execution_count": 47,
   "metadata": {
    "collapsed": false
   },
   "outputs": [
    {
     "name": "stdout",
     "output_type": "stream",
     "text": [
      "done\n"
     ]
    }
   ],
   "source": [
    "kn = KNeighborsClassifier()\n",
    "param_grid_kn = dict(n_neighbors = [1,2,5,10],\n",
    "                     )\n",
    "gscv_kn = GridSearchCV(kn,param_grid = param_grid_kn)\n",
    "gscv_kn.fit(X_train,y_train)\n",
    "regressor_scores[\"KNeighbors Classifier\"] = gscv_kn.score(X_test,y_test)\n",
    "print('done')"
   ]
  },
  {
   "cell_type": "code",
   "execution_count": 48,
   "metadata": {
    "collapsed": false
   },
   "outputs": [
    {
     "name": "stdout",
     "output_type": "stream",
     "text": [
      "Best n_neighbors for KNeighboursClassifier is: 2 with score = 0.852760736196319\n"
     ]
    }
   ],
   "source": [
    "print(\"Best n_neighbors for KNeighboursClassifier is: {0} with score = {1}\".format(gscv_kn.best_params_['n_neighbors'],regressor_scores[\"KNeighbors Classifier\"]))"
   ]
  },
  {
   "cell_type": "code",
   "execution_count": 49,
   "metadata": {
    "collapsed": false
   },
   "outputs": [
    {
     "name": "stdout",
     "output_type": "stream",
     "text": [
      "done\n"
     ]
    }
   ],
   "source": [
    "from sklearn.svm import SVC\n",
    "svc = SVC()\n",
    "gscv_svc = None\n",
    "param_grid_svc = dict(C = [0.01,0.1,1,5,10],\n",
    "                     kernel = ['linear','rbf']\n",
    "                     )\n",
    "gscv_svc = GridSearchCV(svc,param_grid = param_grid_svc)\n",
    "gscv_svc.fit(X_train,y_train)\n",
    "regressor_scores[\"SVC\"] = gscv_svc.score(X_test,y_test)\n",
    "print('done')"
   ]
  },
  {
   "cell_type": "code",
   "execution_count": 50,
   "metadata": {
    "collapsed": false
   },
   "outputs": [
    {
     "name": "stdout",
     "output_type": "stream",
     "text": [
      "Best parameters for SVC are: C = 0.01, kernel = linear with score = 0.8588957055214724\n"
     ]
    }
   ],
   "source": [
    "print(\"Best parameters for SVC are: C = {0}, kernel = {1} with score = {2}\".format(\n",
    "    gscv_svc.best_params_['C'],\n",
    "    gscv_svc.best_params_['kernel'],\n",
    "    regressor_scores[\"SVC\"]))"
   ]
  },
  {
   "cell_type": "code",
   "execution_count": 63,
   "metadata": {
    "collapsed": false
   },
   "outputs": [
    {
     "name": "stdout",
     "output_type": "stream",
     "text": [
      "done\n"
     ]
    }
   ],
   "source": [
    "import warnings\n",
    "warnings.filterwarnings(\"ignore\")\n",
    "\n",
    "from sklearn.neural_network import MLPClassifier\n",
    "mlp = MLPClassifier()\n",
    "param_grid_mlp = dict(hidden_layer_sizes = [(100,),(200,),(100,100),(100,200),(200,300)],\n",
    "                      activation = ['relu','logistic','tanh'],\n",
    "                      alpha = [0.0001,0.001,0.01,0.1])\n",
    "gscv_mlp = GridSearchCV(mlp,param_grid = param_grid_mlp)\n",
    "gscv_mlp.fit(X_train,y_train)\n",
    "regressor_scores[\"MLP Classifier\"] = gscv_mlp.score(X_test,y_test)\n",
    "print('done')"
   ]
  },
  {
   "cell_type": "code",
   "execution_count": 70,
   "metadata": {
    "collapsed": false
   },
   "outputs": [
    {
     "name": "stdout",
     "output_type": "stream",
     "text": [
      "0.911522633745\n"
     ]
    }
   ],
   "source": [
    "print(gscv_mlp.score(X_train,y_train))"
   ]
  },
  {
   "cell_type": "code",
   "execution_count": 64,
   "metadata": {
    "collapsed": false
   },
   "outputs": [
    {
     "name": "stdout",
     "output_type": "stream",
     "text": [
      "Best parameters for MLP Classifier are: hidden_layer_sizes = (200,), activation = relu, alpha = 0.0001 with score = 0.8588957055214724\n"
     ]
    }
   ],
   "source": [
    "print(\"Best parameters for MLP Classifier are: hidden_layer_sizes = {0}, activation = {1}, alpha = {2} with score = {3}\".format(\n",
    "    gscv_mlp.best_params_['hidden_layer_sizes'],\n",
    "    gscv_mlp.best_params_['activation'],\n",
    "    gscv_mlp.best_params_['alpha'],\n",
    "    regressor_scores[\"MLP Classifier\"]))"
   ]
  },
  {
   "cell_type": "code",
   "execution_count": 68,
   "metadata": {
    "collapsed": false
   },
   "outputs": [
    {
     "name": "stdout",
     "output_type": "stream",
     "text": [
      "done\n"
     ]
    }
   ],
   "source": [
    "from sklearn.dummy import DummyClassifier\n",
    "dummy = DummyClassifier()\n",
    "param_grid_dummy = dict(strategy = ['stratified','most_frequent','prior','uniform'])\n",
    "gscv_dummy = GridSearchCV(dummy,param_grid = param_grid_dummy)\n",
    "gscv_dummy.fit(X_train,y_train)\n",
    "regressor_scores[\"Dummy Classifier\"] = gscv_dummy.score(X_test,y_test)\n",
    "print('done')"
   ]
  },
  {
   "cell_type": "code",
   "execution_count": 69,
   "metadata": {
    "collapsed": false
   },
   "outputs": [
    {
     "data": {
      "text/html": [
       "<div>\n",
       "<table border=\"1\" class=\"dataframe\">\n",
       "  <thead>\n",
       "    <tr style=\"text-align: right;\">\n",
       "      <th></th>\n",
       "      <th>Classifier</th>\n",
       "      <th>Score</th>\n",
       "    </tr>\n",
       "  </thead>\n",
       "  <tbody>\n",
       "    <tr>\n",
       "      <th>0</th>\n",
       "      <td>Random forest</td>\n",
       "      <td>0.858896</td>\n",
       "    </tr>\n",
       "    <tr>\n",
       "      <th>1</th>\n",
       "      <td>Gradient Boosting Clasifier</td>\n",
       "      <td>0.858896</td>\n",
       "    </tr>\n",
       "    <tr>\n",
       "      <th>2</th>\n",
       "      <td>AdaBoost Clasifier</td>\n",
       "      <td>0.822086</td>\n",
       "    </tr>\n",
       "    <tr>\n",
       "      <th>3</th>\n",
       "      <td>Decision Tree Classifier</td>\n",
       "      <td>0.858896</td>\n",
       "    </tr>\n",
       "    <tr>\n",
       "      <th>4</th>\n",
       "      <td>KNeighbors Classifier</td>\n",
       "      <td>0.852761</td>\n",
       "    </tr>\n",
       "    <tr>\n",
       "      <th>5</th>\n",
       "      <td>SVC</td>\n",
       "      <td>0.858896</td>\n",
       "    </tr>\n",
       "    <tr>\n",
       "      <th>6</th>\n",
       "      <td>MLP Classifier</td>\n",
       "      <td>0.858896</td>\n",
       "    </tr>\n",
       "    <tr>\n",
       "      <th>7</th>\n",
       "      <td>Dummy Classifier</td>\n",
       "      <td>0.858896</td>\n",
       "    </tr>\n",
       "  </tbody>\n",
       "</table>\n",
       "</div>"
      ],
      "text/plain": [
       "                    Classifier     Score\n",
       "0                Random forest  0.858896\n",
       "1  Gradient Boosting Clasifier  0.858896\n",
       "2           AdaBoost Clasifier  0.822086\n",
       "3     Decision Tree Classifier  0.858896\n",
       "4        KNeighbors Classifier  0.852761\n",
       "5                          SVC  0.858896\n",
       "6               MLP Classifier  0.858896\n",
       "7             Dummy Classifier  0.858896"
      ]
     },
     "execution_count": 69,
     "metadata": {},
     "output_type": "execute_result"
    }
   ],
   "source": [
    "result_df = pnd.DataFrame(list(regressor_scores.items()),columns = [\"Classifier\",\"Score\"])\n",
    "result_df"
   ]
  },
  {
   "cell_type": "markdown",
   "metadata": {},
   "source": [
    "MLP Classifier показал наилучший результат, достигнув точности в 0.858896. (Точност на обучающей = 0.91152 - не переобучаилась)\n",
    "Обучился быстро, почти подогнал веса под предметную область"
   ]
  },
  {
   "cell_type": "markdown",
   "metadata": {},
   "source": [
    "# Замечания\n",
    "\n",
    "- В работе следует использовать библиотеку scikit-learn версии 0.18 и scipy версии 0.18.1"
   ]
  }
 ],
 "metadata": {
  "kernelspec": {
   "display_name": "Python 3",
   "language": "python",
   "name": "python3"
  },
  "language_info": {
   "codemirror_mode": {
    "name": "ipython",
    "version": 3
   },
   "file_extension": ".py",
   "mimetype": "text/x-python",
   "name": "python",
   "nbconvert_exporter": "python",
   "pygments_lexer": "ipython3",
   "version": "3.6.0"
  }
 },
 "nbformat": 4,
 "nbformat_minor": 0
}
