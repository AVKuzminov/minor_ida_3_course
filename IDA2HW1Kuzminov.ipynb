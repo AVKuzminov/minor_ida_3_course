{
 "cells": [
  {
   "cell_type": "markdown",
   "metadata": {},
   "source": [
    "# Домашняя работа №1"
   ]
  },
  {
   "cell_type": "markdown",
   "metadata": {},
   "source": [
    "**Срок сдачи:** 9 октября 2017, 23:59 <br\\>\n",
    "\n",
    "При отправлении ДЗ в Dropbox указывайте фамилию в названии файла: <br\\>\n",
    "** IDA<Номер группы>HW1<Фамилия>.ipynb ** - например ** IDA1HW1Panov.ipynb **<br\\>\n",
    "\n",
    "\n",
    "Сопровождайте ваш код изображеними, комментариями и выводами. <br\\>\n",
    "Иммейте ввиду, что на некоторые задачи нет единственного верного и полного ответа. Чем больше информации вы сможете извлечь, аргументированных выводов сформулировать, тем лучше.\n",
    "\n",
    "Используйте данный Ipython Notebook при оформлении домашнего задания."
   ]
  },
  {
   "cell_type": "markdown",
   "metadata": {},
   "source": [
    "# Table of Contents\n",
    " <p><div class=\"lev1 toc-item\"><a href=\"#Регрессия-с-SVM-(3-балла)\" data-toc-modified-id=\"Регрессия-с-SVM-(3-балла)-1\"><span class=\"toc-item-num\">1&nbsp;&nbsp;</span>Регрессия с SVM (3 балла)</a></div><div class=\"lev2 toc-item\"><a href=\"#Визуализация-данных-(1-балл)\" data-toc-modified-id=\"Визуализация-данных-(1-балл)-11\"><span class=\"toc-item-num\">1.1&nbsp;&nbsp;</span>Визуализация данных (1 балл)</a></div><div class=\"lev2 toc-item\"><a href=\"#Обучение-моделей-(2-балла)\" data-toc-modified-id=\"Обучение-моделей-(2-балла)-12\"><span class=\"toc-item-num\">1.2&nbsp;&nbsp;</span>Обучение моделей (2 балла)</a></div><div class=\"lev1 toc-item\"><a href=\"#Определение-языка-слова-(7-баллов)\" data-toc-modified-id=\"Определение-языка-слова-(7-баллов)-2\"><span class=\"toc-item-num\">2&nbsp;&nbsp;</span>Определение языка слова (7 баллов)</a></div><div class=\"lev2 toc-item\"><a href=\"#Загрузка-(1-балл)\" data-toc-modified-id=\"Загрузка-(1-балл)-21\"><span class=\"toc-item-num\">2.1&nbsp;&nbsp;</span>Загрузка (1 балл)</a></div><div class=\"lev2 toc-item\"><a href=\"#Подход-с-n-граммами-(2-балла)\" data-toc-modified-id=\"Подход-с-n-граммами-(2-балла)-22\"><span class=\"toc-item-num\">2.2&nbsp;&nbsp;</span>Подход с n-граммами (2 балла)</a></div><div class=\"lev2 toc-item\"><a href=\"#Подход-с-пользовательским-ядром\" data-toc-modified-id=\"Подход-с-пользовательским-ядром-23\"><span class=\"toc-item-num\">2.3&nbsp;&nbsp;</span>Подход с пользовательским ядром</a></div><div class=\"lev3 toc-item\"><a href=\"#Подготовка-данных-(1-балла)\" data-toc-modified-id=\"Подготовка-данных-(1-балла)-231\"><span class=\"toc-item-num\">2.3.1&nbsp;&nbsp;</span>Подготовка данных (1 балла)</a></div><div class=\"lev3 toc-item\"><a href=\"#Расчет-ядра-(2-балла)\" data-toc-modified-id=\"Расчет-ядра-(2-балла)-232\"><span class=\"toc-item-num\">2.3.2&nbsp;&nbsp;</span>Расчет ядра (2 балла)</a></div><div class=\"lev3 toc-item\"><a href=\"#Оценка-качества-(1-балл)\" data-toc-modified-id=\"Оценка-качества-(1-балл)-233\"><span class=\"toc-item-num\">2.3.3&nbsp;&nbsp;</span>Оценка качества (1 балл)</a></div>"
   ]
  },
  {
   "cell_type": "markdown",
   "metadata": {},
   "source": [
    "# Регрессия с SVM (3 балла)"
   ]
  },
  {
   "cell_type": "markdown",
   "metadata": {},
   "source": [
    "SVM можно использовать и для задачи регрессии.\n",
    "\n",
    "Загрузите набор данных из *titanium.csv*<br/>\n",
    "Будем решать задачу восстановления столбца 'y' по столбцу 'x'."
   ]
  },
  {
   "cell_type": "code",
   "execution_count": 2,
   "metadata": {
    "collapsed": false
   },
   "outputs": [],
   "source": [
    "import numpy as np\n",
    "import pandas as pnd\n",
    "df = pnd.read_csv('titanium.csv')\n",
    "df.head()\n",
    "import warnings \n",
    "warnings.filterwarnings(\"ignore\")\n",
    "import matplotlib.pyplot as plt\n",
    "%matplotlib inline"
   ]
  },
  {
   "cell_type": "markdown",
   "metadata": {},
   "source": [
    "## Визуализация данных (1 балл)"
   ]
  },
  {
   "cell_type": "markdown",
   "metadata": {},
   "source": [
    "Выполните стандартную предобработку данных (вычет среднего и деление на стандартное отклонение) и выведите их на графике."
   ]
  },
  {
   "cell_type": "code",
   "execution_count": 47,
   "metadata": {
    "collapsed": false
   },
   "outputs": [
    {
     "data": {
      "image/png": "[encoded data removed]",
      "text/plain": [
       "<matplotlib.figure.Figure at 0xcbdcfe3da0>"
      ]
     },
     "metadata": {},
     "output_type": "display_data"
    }
   ],
   "source": [
    "from sklearn.preprocessing import StandardScaler\n",
    "scaler = StandardScaler()\n",
    "x = (scaler.fit_transform(df.x)).reshape(-1,1)\n",
    "y = df.y\n",
    "import matplotlib.pyplot as plt\n",
    "%matplotlib inline\n",
    "\n",
    "plt.scatter(x.reshape(-1,1),y)\n",
    "plt.grid(True)"
   ]
  },
  {
   "cell_type": "markdown",
   "metadata": {},
   "source": [
    "## Обучение моделей (2 балла)"
   ]
  },
  {
   "cell_type": "markdown",
   "metadata": {},
   "source": [
    "Рассмотрим 3 ядра: \n",
    "* Линейное\n",
    "* Полиномиальное (`degree = 3`, `gamma = 6`, `coef0 = 1`)\n",
    "* RBF (`gamma = 6`, `coef0 = 1`)\n",
    "\n",
    "Во всех случаях установите точность алгоритма оптимизации `epsilon=0.01`\n",
    "\n",
    "Для каждого из ядер:\n",
    "1. Постройте графики зависимости ошибки от параметра $C$ (ось графика со значениями параметра $C$ должна быть в логарифмической шкале). Ошибка измеряется как средняя абсолютная ошибка. \n",
    "2. Для наилучшего параметра $C$ постройте график с данными и предсказанием с помощью SVM.\n",
    "\n",
    "В каких случаях возникают эффекты недообучения, переобучения?"
   ]
  },
  {
   "cell_type": "code",
   "execution_count": 11,
   "metadata": {
    "collapsed": true
   },
   "outputs": [],
   "source": [
    "from sklearn.svm import SVR\n",
    "import numpy as np\n",
    "from sklearn.model_selection import GridSearchCV\n",
    "from sklearn.metrics import mean_absolute_error"
   ]
  },
  {
   "cell_type": "code",
   "execution_count": 12,
   "metadata": {
    "collapsed": false
   },
   "outputs": [],
   "source": [
    "from sklearn.model_selection import train_test_split\n",
    "x_train,x_test,y_train,y_test = train_test_split(x,y,test_size = 0.3)"
   ]
  },
  {
   "cell_type": "code",
   "execution_count": 22,
   "metadata": {
    "collapsed": false
   },
   "outputs": [
    {
     "data": {
      "text/plain": [
       "array([  1.00000000e-03,   5.17947468e-03,   2.68269580e-02,\n",
       "         1.38949549e-01,   7.19685673e-01,   3.72759372e+00,\n",
       "         1.93069773e+01,   1.00000000e+02])"
      ]
     },
     "execution_count": 22,
     "metadata": {},
     "output_type": "execute_result"
    }
   ],
   "source": [
    "C_range = np.logspace(-3, 2, 8)\n",
    "C_range"
   ]
  },
  {
   "cell_type": "code",
   "execution_count": 14,
   "metadata": {
    "collapsed": true
   },
   "outputs": [],
   "source": [
    "#for i in range(len(C_range)):\n",
    "#    lin_svm = SVR(kernel = 'linear', C = C_range[i], epsilon=0.01)\n",
    "#    poly_svm = SVR(kernel = 'poly',degree = 3, gamma = 6, coef0 = 1, C = C_range[i], epsilon=0.01)\n",
    "#    rbf_svm = SVR(kernel = 'rbf',gamma = 6, coef0 = 1, C = C_range[i], epsilon=0.01)\n",
    "#    lin_svm.fit(x_train,y_train)\n",
    "#    poly_svm.fit(x_train,y_train)\n",
    "#    rbf_svm.fit(x_train,y_train)\n",
    "    "
   ]
  },
  {
   "cell_type": "code",
   "execution_count": 15,
   "metadata": {
    "collapsed": false
   },
   "outputs": [
    {
     "name": "stdout",
     "output_type": "stream",
     "text": [
      "linear learned!\n",
      "poly learned!\n",
      "rbf learned!\n"
     ]
    }
   ],
   "source": [
    "C_range = np.logspace(-2, 5, 8)\n",
    "lin_svm = SVR(kernel = 'linear')\n",
    "poly_svm = SVR(kernel = 'poly',degree = 3, gamma = 6, coef0 = 1)\n",
    "rbf_svm = SVR(kernel = 'rbf',gamma = 6, coef0 = 1)\n",
    "param_grid = dict(C = C_range,epsilon = [0.01])#переделать на 0.01\n",
    "grid_lin = GridSearchCV(lin_svm, param_grid= param_grid,error_score=mean_absolute_error)\n",
    "grid_lin.fit(x_train,y_train)\n",
    "print('linear learned!')\n",
    "grid_poly = GridSearchCV(poly_svm, param_grid= param_grid,error_score=mean_absolute_error)\n",
    "grid_poly.fit(x_train,y_train)\n",
    "print('poly learned!')\n",
    "grid_rbf = GridSearchCV(rbf_svm, param_grid= param_grid,error_score=mean_absolute_error)\n",
    "grid_rbf.fit(x_train,y_train)\n",
    "print('rbf learned!')"
   ]
  },
  {
   "cell_type": "code",
   "execution_count": 26,
   "metadata": {
    "collapsed": false
   },
   "outputs": [
    {
     "data": {
      "text/plain": [
       "SVR(C=100.0, cache_size=200, coef0=1, degree=3, epsilon=0.01, gamma=6,\n",
       "  kernel='poly', max_iter=-1, shrinking=True, tol=0.001, verbose=False)"
      ]
     },
     "execution_count": 26,
     "metadata": {},
     "output_type": "execute_result"
    }
   ],
   "source": [
    "grid_poly.best_estimator_"
   ]
  },
  {
   "cell_type": "code",
   "execution_count": 23,
   "metadata": {
    "collapsed": true
   },
   "outputs": [],
   "source": [
    "def plot1(gridcv,a,b,c,sign,label,label2):\n",
    "    plt.subplot(a,b,c)\n",
    "    plt.title('{0}, with C = {1}'.format(label,label2))\n",
    "    plt.scatter(x,y,label=\"Original\")\n",
    "    plt.scatter(x,gridcv.predict(x),label=\"Predicted\")\n",
    "    plt.legend(loc=2)\n",
    "    plt.grid(True)\n",
    "\n",
    "    plt.subplot(a,b,c+1)\n",
    "    plt.title(\"Mean Absolute Error, {} kernel\".format(label))\n",
    "    plt.plot(C_range,sign*gridcv.cv_results_['mean_test_score'],'o-')\n",
    "    plt.semilogx()\n",
    "    plt.grid(True)"
   ]
  },
  {
   "cell_type": "code",
   "execution_count": 25,
   "metadata": {
    "collapsed": false
   },
   "outputs": [
    {
     "data": {
      "image/png": "[encoded data removed]",
      "text/plain": [
       "<matplotlib.figure.Figure at 0xcbdd1cee80>"
      ]
     },
     "metadata": {},
     "output_type": "display_data"
    }
   ],
   "source": [
    "plt.figure(figsize=[15,15])\n",
    "\n",
    "plot1(grid_lin,3,3,1,-1,\"linear\",grid_lin.best_params_['C'])\n",
    "plot1(grid_poly,3,3,4,-1,\"polynominal\",grid_poly.best_params_['C'])\n",
    "plot1(grid_rbf,3,3,7,-1,\"rbf\",grid_rbf.best_params_['C'])\n",
    "plt.show()"
   ]
  },
  {
   "cell_type": "code",
   "execution_count": 29,
   "metadata": {
    "collapsed": true
   },
   "outputs": [],
   "source": [
    "#Вывод: rbf-ядро, основанное на радиально-базисных функциях, показало наименьшую ошибку с параметром регуляризации 0.01\n",
    "#(на графике C=100, так как при этом значении ошибка в районе -0.088 - старается минимизировать, \n",
    "#но по модулю это больше чем ри С = 0.01)\n",
    "#Полиноминальное ядро при высокой регуляризации неообучается, наилучшее значение при С = 0.01\n",
    "#Ввиду нелинейного характера данных, линейное ядро плохо предсказывает значения \"колокола\", ошибка высокая. \n",
    "#Эта модель плохо подходит для этих данных. Недообучена. "
   ]
  },
  {
   "cell_type": "markdown",
   "metadata": {},
   "source": [
    "# Определение языка слова (7 баллов)"
   ]
  },
  {
   "cell_type": "markdown",
   "metadata": {},
   "source": [
    "В данном задании вам необходимо построить модель, которая будет определять, на каком языке написано слово. Сделать это будет предложено двумя способами.\n",
    "\n",
    "Даны два текста - первые предложения произведения \"Война и Мир\" на английком и испанском, разбитые на слова."
   ]
  },
  {
   "cell_type": "markdown",
   "metadata": {},
   "source": [
    "## Загрузка (1 балл)\n",
    "\n",
    "Загрузите данные из файлов *war_and_peace_es.txt* и *war_and_peace_en.txt*.<br/> \n",
    "В результате вы должны получить pandas.DataFrame со столбцами *index* | *word* | *label*, где *index* - это индекс pandas, *word* - это слово и *label* - это метка класса (0 или 1)"
   ]
  },
  {
   "cell_type": "code",
   "execution_count": 3,
   "metadata": {
    "collapsed": false
   },
   "outputs": [],
   "source": [
    "eng = pnd.read_csv('war_and_peace_en.txt',header = None,names=['word'])\n",
    "eng['label']=np.zeros(len(eng))\n",
    "esp = pnd.read_csv('war_and_peace_es.txt',header = None,names=['word'])\n",
    "esp['label']=np.ones(len(esp))\n",
    "df = pnd.DataFrame(np.concatenate([eng,esp],axis=0))\n",
    "df.columns = ['word','label']"
   ]
  },
  {
   "cell_type": "code",
   "execution_count": 4,
   "metadata": {
    "collapsed": false
   },
   "outputs": [
    {
     "data": {
      "text/plain": [
       "[5044, 6359, 11403]"
      ]
     },
     "execution_count": 4,
     "metadata": {},
     "output_type": "execute_result"
    }
   ],
   "source": [
    "[len(eng),len(esp),len(df)]"
   ]
  },
  {
   "cell_type": "code",
   "execution_count": 5,
   "metadata": {
    "collapsed": false
   },
   "outputs": [
    {
     "data": {
      "text/html": [
       "<div>\n",
       "<table border=\"1\" class=\"dataframe\">\n",
       "  <thead>\n",
       "    <tr style=\"text-align: right;\">\n",
       "      <th></th>\n",
       "      <th>word</th>\n",
       "      <th>label</th>\n",
       "    </tr>\n",
       "  </thead>\n",
       "  <tbody>\n",
       "    <tr>\n",
       "      <th>0</th>\n",
       "      <td>war</td>\n",
       "      <td>0</td>\n",
       "    </tr>\n",
       "    <tr>\n",
       "      <th>1</th>\n",
       "      <td>and</td>\n",
       "      <td>0</td>\n",
       "    </tr>\n",
       "    <tr>\n",
       "      <th>2</th>\n",
       "      <td>peace</td>\n",
       "      <td>0</td>\n",
       "    </tr>\n",
       "    <tr>\n",
       "      <th>3</th>\n",
       "      <td>leo</td>\n",
       "      <td>0</td>\n",
       "    </tr>\n",
       "    <tr>\n",
       "      <th>4</th>\n",
       "      <td>tolstoy</td>\n",
       "      <td>0</td>\n",
       "    </tr>\n",
       "  </tbody>\n",
       "</table>\n",
       "</div>"
      ],
      "text/plain": [
       "      word label\n",
       "0      war     0\n",
       "1      and     0\n",
       "2    peace     0\n",
       "3      leo     0\n",
       "4  tolstoy     0"
      ]
     },
     "execution_count": 5,
     "metadata": {},
     "output_type": "execute_result"
    }
   ],
   "source": [
    "# like this\n",
    "\n",
    "df.head()"
   ]
  },
  {
   "cell_type": "markdown",
   "metadata": {},
   "source": [
    "## Подход с n-граммами (2 балла)"
   ]
  },
  {
   "cell_type": "markdown",
   "metadata": {},
   "source": [
    "На этом этапе предлагается построить модель используя n-граммы слов, то есть последовательностях из n символов.<br/>\n",
    "Таким образом, признаками наших данных будут все найденные n-граммы слов, а значениями признаков будут частоты соответствующих n-грамм в слове.<br/>\n",
    "Например, для слова \"guerra\" би-граммами будут \"gu\", \"ue\", \"er\", \"rr\", \"ra\", каждая из которых встречается в нем с частотой 1.\n",
    "\n",
    "Для того, чтобы выделять n-граммы, удобно использовать `CountVectorizer()` с аргументами `analyzer='char'` и `ngram_range=(n_min, n_max)`. Вы наверняка встречались с этим векторизатором в предыдущем модуле.\n",
    "\n",
    "Таким образом, сделайте следующее:\n",
    "1. Задайте переменную RND_SEED, которая будет использоваться в любых генераторах случайных чисел в вашем коде (обычно параметр \"random_seed\")\n",
    "2. Разбейте данные на обучающую и отложенную выборку в пропорции 80/20\n",
    "3. Составьте [`Pipeline`](http://scikit-learn.org/stable/modules/generated/sklearn.pipeline.Pipeline.html), состоящий из `CountVectorizer()` и SVM с линейным ядром\n",
    "4. Исследуйте, как влияют размер n-грамм и величина штрафа `C` на предсказательную силу модели. Мера качества - accuracy."
   ]
  },
  {
   "cell_type": "code",
   "execution_count": 6,
   "metadata": {
    "collapsed": false
   },
   "outputs": [],
   "source": [
    "RND_SEED = 54321"
   ]
  },
  {
   "cell_type": "code",
   "execution_count": 7,
   "metadata": {
    "collapsed": false
   },
   "outputs": [],
   "source": [
    "from sklearn.model_selection import train_test_split\n",
    "text_train,text_test,answer_train,answer_test = train_test_split(df.word,df.label,test_size = 0.2, random_state = RND_SEED)"
   ]
  },
  {
   "cell_type": "code",
   "execution_count": 8,
   "metadata": {
    "collapsed": true
   },
   "outputs": [],
   "source": [
    "from sklearn.pipeline import make_pipeline\n",
    "import numpy as np\n",
    "import pandas as pnd\n",
    "from sklearn.feature_extraction.text import CountVectorizer\n",
    "from sklearn.svm import SVC\n",
    "from sklearn.metrics import accuracy_score, make_scorer\n",
    "from sklearn.model_selection import permutation_test_score"
   ]
  },
  {
   "cell_type": "code",
   "execution_count": 9,
   "metadata": {
    "collapsed": false
   },
   "outputs": [],
   "source": [
    "C_range = [0.001,0.01,0.1,1,10,100]\n",
    "ngram_range_list = [(1,2),(2,2),(2,3)]\n",
    "scores = [[1 for x in range(len(ngram_range_list))] for y in range(len(C_range))] \n",
    "labels = []\n",
    "answer_train = np.asarray(answer_train,dtype=\"float\")\n",
    "#a.astype(np.double)\n",
    "answer_test = answer_test.astype(float).apply(np.round)"
   ]
  },
  {
   "cell_type": "code",
   "execution_count": 10,
   "metadata": {
    "collapsed": false
   },
   "outputs": [],
   "source": [
    "for i in range(len(C_range)):\n",
    "    for j in range(len(ngram_range_list)):\n",
    "        pipe = make_pipeline(CountVectorizer(analyzer='char',ngram_range = ngram_range_list[j]),SVC(kernel='linear',C=C_range[i]))\n",
    "        estimator = pipe.fit(text_train,answer_train)\n",
    "        labels.append('{0}, {1}'.format(C_range[i],ngram_range_list[j]))\n",
    "        scores[i][j] = estimator.score(text_test.ravel(),answer_test.round())"
   ]
  },
  {
   "cell_type": "code",
   "execution_count": 12,
   "metadata": {
    "collapsed": false
   },
   "outputs": [],
   "source": [
    "max_score_i = 0\n",
    "max_score_j = 0\n",
    "for i in range(len(C_range)):\n",
    "    for j in range(len(ngram_range_list)):\n",
    "        if (scores[i][j] >= scores[max_score_i][max_score_j]):\n",
    "            max_score_i = i\n",
    "            max_score_j = j"
   ]
  },
  {
   "cell_type": "code",
   "execution_count": 13,
   "metadata": {
    "collapsed": false
   },
   "outputs": [
    {
     "data": {
      "image/png": "[encoded data removed]",
      "text/plain": [
       "<matplotlib.figure.Figure at 0xfc2f965c0>"
      ]
     },
     "metadata": {},
     "output_type": "display_data"
    }
   ],
   "source": [
    "import matplotlib.pyplot as plt\n",
    "%matplotlib inline\n",
    "\n",
    "plt.figure(figsize=(5,5))\n",
    "plt.title('Accuracy depends on C for dfferent n-grams')\n",
    "plt.xlabel='C'\n",
    "plt.ylabel='error'\n",
    "plt.semilogx()\n",
    "plt.plot(C_range,np.array(scores)[::,0],'o-',label = '{0}'.format(ngram_range_list[0]))\n",
    "plt.plot(C_range,np.array(scores)[::,1],'o-',label = '{0}'.format(ngram_range_list[1]))\n",
    "plt.plot(C_range,np.array(scores)[::,2],'o-',label = '{0}'.format(ngram_range_list[2]))\n",
    "plt.legend(loc = 4)\n",
    "plt.grid(True)"
   ]
  },
  {
   "cell_type": "code",
   "execution_count": null,
   "metadata": {
    "collapsed": true
   },
   "outputs": [],
   "source": [
    "#Такой набор n-gram был выбран в качестве здравого смысла, так как ngram'мы размера 1 представляют из себя букву, \n",
    "#что недостаточно информативно. Больше 3 также смысла немного, так как чем длиньше последовательность, тем меньше вероятность совпадения\n",
    "#Наименьшая ошибка была получени при параметре регуляризации, равном 0.001 и применении n-gram размера 2. (биграммы)"
   ]
  },
  {
   "cell_type": "markdown",
   "metadata": {},
   "source": [
    "## Подход с пользовательским ядром\n",
    "### Подготовка данных (1 балла)\n",
    "\n",
    "Особенностью пользовательского ядра в sklean.SVC является то, что на вход оно может принимать на вход **только** вектора чисел.<br/>\n",
    "В нашем случае это будут индексы соответствующих слов из корпуса. То есть вместо вектора ['treat', 'celebrit', 'prince', ...] на вход в ядро подается вектор из индексов [9209, 11145, 7735, ...] с помощью которых вы будете находить сами слова.\n",
    "\n",
    "Прежде чем мы начнем строить ядро, надо подготовить данные. Для этого:\n",
    "1. Задайте переменную RND_SEED, которая будет использоваться в любых генераторах случайных чисел в вашем коде (обычно параметр \"random_seed\")\n",
    "2. Случайным образом перемешайте и заново проиндексируйте таблицу, полученную выше (используйте методы `df.sample()` и `df.reset_index()`)\n",
    "3. Ядро может вычисляться достаточно долго, поэтому можете урезать таблицу, но оставить в ней не менее 1000 слов.\n",
    "4. Разбейте данные на обучающую и контрольную выборку в пропорции 80/20\n",
    "\n",
    "В результате вы должны получить вектор-столбец `X_train`, `X_test` с **индексами** слов и векторы `y_train`, `y_test` с метками классов."
   ]
  },
  {
   "cell_type": "code",
   "execution_count": 55,
   "metadata": {
    "collapsed": false
   },
   "outputs": [],
   "source": [
    "dfnew = df.sample(frac = 1).reset_index(drop = True)\n",
    "dfnewcutted = dfnew[:1000]"
   ]
  },
  {
   "cell_type": "code",
   "execution_count": 76,
   "metadata": {
    "collapsed": true
   },
   "outputs": [],
   "source": [
    "RND_SEED = 32228\n",
    "X_train,X_test,y_train,y_test = train_test_split(dfnew.index.values,dfnew.label,test_size = 0.2, random_state = RND_SEED)\n",
    "X_cut_train,X_cut_test,y_cut_train,y_cut_test = train_test_split(dfnewcutted.index.values,dfnewcutted.label,test_size = 0.2, random_state = RND_SEED)"
   ]
  },
  {
   "cell_type": "markdown",
   "metadata": {},
   "source": [
    "### Расчет ядра (2 балла)\n",
    "\n",
    "Теперь напишем собственное ядро для классификации строк. Для сравнения строк будем использовать [расстояние Левенштейна](https://ru.wikipedia.org/wiki/Расстояние_Левенштейна). Реализацию этого расстояния можно получить одним из двух способов:\n",
    "* скопировать функцию wfi_levenshtein из файла [pylev.py](https://github.com/toastdriven/pylev/blob/master/pylev.py)\n",
    "* поставить пакет [editdistance](https://pypi.python.org/pypi/editdistance) (будет работать быстрее, чем предыдущая реализация, но могут возникнуть проблемы с установкой)\n",
    "\n",
    "Ядро для сравнения строк должно принимать максимальное значение, когда слова одинаковы, и минимальное, когда очень отличаются. Это противоположно свойствам расстояния Левенштейна: оно равно 0, когда слова одинаковы, и максимально, когда слова разные. Поэтому подставьте значение расстояния Левенштейна в какое-нибудь ядро, зависящее от расстояния между объектами (например, гауссовское).\n",
    "\n",
    "Функция, реализующая расчет ядра должна принимать две матрицы $U$ и $V$ с признаковым описанием объектов (во время обучения они обе относятся к обучающей выборке, а во время применения - одна матрица относится к обучающей выборке, а другая к контрольной).\n",
    "Функция должна возвращать матрицу значений ядра для всех объектов попарно: $G_{ij} = K(U_i, V_j)$. Здесь $U_i$ — i-ый объект выборки $U$, а $V_j$ — j-ый объект выборки $V$.\n",
    "\n",
    "Сделайте следующее:\n",
    "1. Напишите функцию *string_kernel(U, V)*, расчитывающую матрицу ядра $G_{ij}$\n",
    "2. Визуализируйте матрицу только для тренировочной выборки (функция plt.imshow()).\n"
   ]
  },
  {
   "cell_type": "code",
   "execution_count": 58,
   "metadata": {
    "collapsed": true
   },
   "outputs": [],
   "source": [
    "import math"
   ]
  },
  {
   "cell_type": "code",
   "execution_count": null,
   "metadata": {
    "collapsed": false
   },
   "outputs": [],
   "source": [
    "X_cut_train_kernel = string_kernel(X_cut_train,X_cut_train)\n",
    "plt.imshow(X_cut_train_kernel)"
   ]
  },
  {
   "cell_type": "code",
   "execution_count": 94,
   "metadata": {
    "collapsed": true
   },
   "outputs": [],
   "source": [
    "def string_kernel(U,V): #в U и V находятся слова, то есть G - расстояние каждого с каждым\n",
    "    G = [[1 for x in range(len(V))] for y in range(len(U))] \n",
    "    for i in range(len(U)):\n",
    "        for j in range(len(V)):\n",
    "            #print('{0} {1}'.format(U[i],V[j]))\n",
    "            levenstein = wfi_levenshtein(str(dfnew.iloc[U[i]:0]),str(dfnew.iloc[V[i]:0]))\n",
    "            G[i][j] = math.exp(-1*((levenstein)^2))\n",
    "    return G "
   ]
  },
  {
   "cell_type": "code",
   "execution_count": 62,
   "metadata": {
    "collapsed": true
   },
   "outputs": [],
   "source": [
    "def wfi_levenshtein(string_1, string_2):\n",
    "    \"\"\"\n",
    "    Calculates the Levenshtein distance between two strings.\n",
    "    This version uses an iterative version of the Wagner-Fischer algorithm.\n",
    "    Usage::\n",
    "        >>> wfi_levenshtein('kitten', 'sitting')\n",
    "        3\n",
    "        >>> wfi_levenshtein('kitten', 'kitten')\n",
    "        0\n",
    "        >>> wfi_levenshtein('', '')\n",
    "        0\n",
    "    \"\"\"\n",
    "    if string_1 == string_2:\n",
    "        return 0\n",
    "    len_1 = len(string_1)\n",
    "    len_2 = len(string_2)\n",
    "    if len_1 == 0:\n",
    "        return len_2\n",
    "    if len_2 == 0:\n",
    "        return len_1\n",
    "    if len_1 > len_2:\n",
    "        string_2, string_1 = string_1, string_2\n",
    "        len_2, len_1 = len_1, len_2\n",
    "    d0 = [i for i in range(len_2 + 1)]\n",
    "    d1 = [j for j in range(len_2 + 1)]\n",
    "    for i in range(len_1):\n",
    "        d1[0] = i + 1\n",
    "        for j in range(len_2):\n",
    "            cost = d0[j]\n",
    "            if string_1[i] != string_2[j]:\n",
    "                # substitution\n",
    "                cost += 1\n",
    "                # insertion\n",
    "                x_cost = d1[j] + 1\n",
    "                if x_cost < cost:\n",
    "                    cost = x_cost\n",
    "                # deletion\n",
    "                y_cost = d0[j + 1] + 1\n",
    "                if y_cost < cost:\n",
    "                    cost = y_cost\n",
    "            d1[j + 1] = cost\n",
    "        d0, d1 = d1, d0\n",
    "    return d0[-1]"
   ]
  },
  {
   "cell_type": "markdown",
   "metadata": {},
   "source": [
    "### Оценка качества (1 балл)\n",
    "\n",
    "Обучите метод опорных векторов с различными значениями параметра штрафа $C$.<br/>\n",
    "Для каждого значения выведите accuracy на обучащей и контрольной выборке.\n",
    "\n",
    "Постарайтесь достичь качества в 70% на тестовой выборке. Для улучшения качества можно увеличить размер тренировочной выборки. Но тогда обучение будет происходить дольше."
   ]
  },
  {
   "cell_type": "code",
   "execution_count": null,
   "metadata": {
    "collapsed": true
   },
   "outputs": [],
   "source": []
  }
 ],
 "metadata": {
  "anaconda-cloud": {},
  "kernelspec": {
   "display_name": "Python 3",
   "language": "python",
   "name": "python3"
  },
  "language_info": {
   "codemirror_mode": {
    "name": "ipython",
    "version": 3
   },
   "file_extension": ".py",
   "mimetype": "text/x-python",
   "name": "python",
   "nbconvert_exporter": "python",
   "pygments_lexer": "ipython3",
   "version": "3.6.0"
  },
  "nav_menu": {},
  "toc": {
   "colors": {
    "hover_highlight": "#DAA520",
    "navigate_num": "#000000",
    "navigate_text": "#333333",
    "running_highlight": "#FF0000",
    "selected_highlight": "#FFD700",
    "sidebar_border": "#EEEEEE",
    "wrapper_background": "#FFFFFF"
   },
   "moveMenuLeft": true,
   "nav_menu": {
    "height": "217px",
    "width": "253px"
   },
   "navigate_menu": true,
   "number_sections": false,
   "sideBar": true,
   "threshold": 4,
   "toc_cell": false,
   "toc_section_display": "block",
   "toc_window_display": true,
   "widenNotebook": false
  }
 },
 "nbformat": 4,
 "nbformat_minor": 1
}
