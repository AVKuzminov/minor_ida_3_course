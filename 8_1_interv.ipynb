{
 "cells": [
  {
   "cell_type": "markdown",
   "metadata": {},
   "source": [
    "# Доверительные интервалы для доли "
   ]
  },
  {
   "cell_type": "markdown",
   "metadata": {},
   "source": [
    "## Генерация данных"
   ]
  },
  {
   "cell_type": "code",
   "execution_count": 1,
   "metadata": {
    "collapsed": true
   },
   "outputs": [],
   "source": [
    "import numpy as np"
   ]
  },
  {
   "cell_type": "markdown",
   "metadata": {},
   "source": [
    "Мат статистика применяется для машинного обучения иногда как надстройка для подтверждения результата\n",
    "Некоторые задачи решаются методами мат статистики - нормализация данных, проверка гипотез и тд\n",
    "Объекты: выборка (должна быть репрезентативной) и генеральная соввокупность\n",
    "Репрезентативность позволяет вывести зависимости\n",
    "Критерии репрезентативности: ...\n",
    "Классы задач: \n",
    "1) оценка некоторых параметров распределения\n",
    "   доверительный интервал построить\n",
    "   степень уверенности альфа (95%)\n",
    "   Если бесконечное кол-во раз строить, то 95% что оцениваемая величина лежит в доверительном интервале\n",
    "2) проверка гипотез\n",
    "   построить статистику - функция по выборке в некоторое число\n",
    "   ее считаем много раз, получаем распределение"
   ]
  },
  {
   "cell_type": "markdown",
   "metadata": {},
   "source": [
    "мода\n",
    "среднее\n",
    "медиана"
   ]
  },
  {
   "cell_type": "code",
   "execution_count": 2,
   "metadata": {
    "collapsed": true
   },
   "outputs": [],
   "source": [
    "np.random.seed(1)\n",
    "\n",
    "statistical_population = np.random.randint(2, size = 100000) #ген. совокупность\n",
    "\n",
    "random_sample = np.random.choice(statistical_population, size = 1000) #выборка"
   ]
  },
  {
   "cell_type": "code",
   "execution_count": 21,
   "metadata": {
    "collapsed": false
   },
   "outputs": [
    {
     "name": "stdout",
     "output_type": "stream",
     "text": [
      "0.502\n",
      "0.498\n",
      "Ошибка = 4.0000000000000105e-05\n"
     ]
    }
   ],
   "source": [
    "#истинное значение доли - в нашем случае среднее значение\n",
    "ones = len(random_sample[random_sample == 1])\n",
    "zeros = len(random_sample[random_sample == 0])\n",
    "m = statistical_population.mean()\n",
    "print((ones)/len(random_sample))\n",
    "print((zeros)/len(random_sample))\n",
    "print(\"Ошибка = \" + str((ones)/len(statistical_population) - (zeros)/len(statistical_population)))"
   ]
  },
  {
   "cell_type": "markdown",
   "metadata": {},
   "source": [
    "## Точечная оценка доли"
   ]
  },
  {
   "cell_type": "code",
   "execution_count": 2,
   "metadata": {
    "collapsed": true
   },
   "outputs": [],
   "source": [
    "# Оценка среднего"
   ]
  },
  {
   "cell_type": "markdown",
   "metadata": {},
   "source": [
    "## Доверительный интервал для доли"
   ]
  },
  {
   "cell_type": "code",
   "execution_count": 29,
   "metadata": {
    "collapsed": true
   },
   "outputs": [],
   "source": [
    "from statsmodels.stats.proportion import proportion_confint"
   ]
  },
  {
   "cell_type": "markdown",
   "metadata": {},
   "source": [
    "### Доверительный интервал на основе нормального распределения"
   ]
  },
  {
   "cell_type": "markdown",
   "metadata": {},
   "source": [
    "$$\\hat{p}\\pm z_{1-\\frac{\\alpha}{2}} \\sqrt{\\frac{\\hat{p}\\left(1-\\hat{p}\\right)}{n}}$$"
   ]
  },
  {
   "cell_type": "code",
   "execution_count": 26,
   "metadata": {
    "collapsed": false
   },
   "outputs": [
    {
     "name": "stdout",
     "output_type": "stream",
     "text": [
      "(0.46672057341318929, 0.52869942658681068)\n"
     ]
    },
    {
     "data": {
      "text/plain": [
       "0.061978853173621395"
      ]
     },
     "execution_count": 26,
     "metadata": {},
     "output_type": "execute_result"
    }
   ],
   "source": [
    "# считаем интервал\n",
    "#если ген. совокуп нормально \n",
    "a = proportion_confint(count=m*len(random_sample), nobs = len(random_sample)) #nobs = размер выборки (число попыток подбросить монетку)\n",
    "print(a)\n",
    "a[1]-a[0]"
   ]
  },
  {
   "cell_type": "code",
   "execution_count": 5,
   "metadata": {
    "collapsed": true
   },
   "outputs": [],
   "source": [
    "# выводим его границы и ширину"
   ]
  },
  {
   "cell_type": "markdown",
   "metadata": {},
   "source": [
    "### Доверительный интервал Уилсона"
   ]
  },
  {
   "cell_type": "markdown",
   "metadata": {},
   "source": [
    "$$\\frac1{ 1 + \\frac{z^2}{n} } \\left( \\hat{p} + \\frac{z^2}{2n} \\pm z \\sqrt{ \\frac{ \\hat{p}\\left(1-\\hat{p}\\right)}{n} + \\frac{\n",
    "z^2}{4n^2} } \\right), \\;\\; z \\equiv z_{1-\\frac{\\alpha}{2}}$$ "
   ]
  },
  {
   "cell_type": "code",
   "execution_count": 31,
   "metadata": {
    "collapsed": false
   },
   "outputs": [
    {
     "name": "stdout",
     "output_type": "stream",
     "text": [
      "(0.46678868680952518, 0.52864883974433874)\n"
     ]
    },
    {
     "data": {
      "text/plain": [
       "0.061860152934813561"
      ]
     },
     "execution_count": 31,
     "metadata": {},
     "output_type": "execute_result"
    }
   ],
   "source": [
    "# считаем интервал\n",
    "b = proportion_confint(count=m*len(random_sample), nobs = len(random_sample), method=\"wilson\") #nobs = размер выборки (число попыток подбросить монетку)\n",
    "print(b)\n",
    "b[1]-b[0]"
   ]
  },
  {
   "cell_type": "code",
   "execution_count": 7,
   "metadata": {
    "collapsed": true
   },
   "outputs": [],
   "source": [
    "# выводим его границы и ширину"
   ]
  },
  {
   "cell_type": "markdown",
   "metadata": {},
   "source": [
    "## Размер выборки для интервала заданной ширины"
   ]
  },
  {
   "cell_type": "code",
   "execution_count": 32,
   "metadata": {
    "collapsed": true
   },
   "outputs": [],
   "source": [
    "from statsmodels.stats.proportion import samplesize_confint_proportion\n",
    "#какой размер выборки из ген. соввокуп. чтобы получить пъдоверительный интервал размера X"
   ]
  },
  {
   "cell_type": "code",
   "execution_count": 35,
   "metadata": {
    "collapsed": false
   },
   "outputs": [
    {
     "name": "stdout",
     "output_type": "stream",
     "text": [
      "38413.9735735\n"
     ]
    }
   ],
   "source": [
    "# считаем размер выборки для ширины 0.01\n",
    "c = samplesize_confint_proportion(random_sample.mean(),0.005)\n",
    "print(c)"
   ]
  },
  {
   "cell_type": "code",
   "execution_count": 37,
   "metadata": {
    "collapsed": false
   },
   "outputs": [],
   "source": [
    "# генерируем новую выборку\n",
    "new_random_sample = np.random.choice(statistical_population, size = int(c))"
   ]
  },
  {
   "cell_type": "code",
   "execution_count": 39,
   "metadata": {
    "collapsed": false
   },
   "outputs": [
    {
     "name": "stdout",
     "output_type": "stream",
     "text": [
      "(0.49368525482106068, 0.50368542697937146)\n"
     ]
    },
    {
     "data": {
      "text/plain": [
       "0.010000172158310783"
      ]
     },
     "execution_count": 39,
     "metadata": {},
     "output_type": "execute_result"
    }
   ],
   "source": [
    "# считаем интервал\n",
    "d = proportion_confint(count=new_random_sample.mean()*len(new_random_sample), nobs = len(new_random_sample))\n",
    "print(d)\n",
    "d[1]-d[0]"
   ]
  },
  {
   "cell_type": "code",
   "execution_count": null,
   "metadata": {
    "collapsed": true
   },
   "outputs": [],
   "source": [
    "# выводим его границы и ширину"
   ]
  },
  {
   "cell_type": "code",
   "execution_count": null,
   "metadata": {
    "collapsed": true
   },
   "outputs": [],
   "source": []
  }
 ],
 "metadata": {
  "anaconda-cloud": {},
  "kernelspec": {
   "display_name": "Python 3",
   "language": "python",
   "name": "python3"
  },
  "language_info": {
   "codemirror_mode": {
    "name": "ipython",
    "version": 3
   },
   "file_extension": ".py",
   "mimetype": "text/x-python",
   "name": "python",
   "nbconvert_exporter": "python",
   "pygments_lexer": "ipython3",
   "version": "3.6.0"
  }
 },
 "nbformat": 4,
 "nbformat_minor": 1
}
